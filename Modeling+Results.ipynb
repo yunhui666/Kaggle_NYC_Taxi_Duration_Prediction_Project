{
  "cells": [
    {
      "cell_type": "markdown",
      "metadata": {
        "id": "view-in-github",
        "colab_type": "text"
      },
      "source": [
        "<a href=\"https://colab.research.google.com/github/yunhui666/Kaggle_NYC_Taxi_Duration_Prediction_Project/blob/main/Modeling%2BResults.ipynb\" target=\"_parent\"><img src=\"https://colab.research.google.com/assets/colab-badge.svg\" alt=\"Open In Colab\"/></a>"
      ]
    },
    {
      "cell_type": "markdown",
      "metadata": {
        "id": "V7OEunkHJvjQ"
      },
      "source": [
        "## Import Data"
      ]
    },
    {
      "cell_type": "code",
      "execution_count": null,
      "metadata": {
        "colab": {
          "base_uri": "https://localhost:8080/"
        },
        "id": "COzWo7OnK_4Z",
        "outputId": "5f099c64-66d5-4f12-e8f5-f90c28cc5d71"
      },
      "outputs": [
        {
          "output_type": "stream",
          "name": "stdout",
          "text": [
            "Mounted at /content/drive\n"
          ]
        }
      ],
      "source": [
        "from google.colab import drive\n",
        "drive.mount('/content/drive')"
      ]
    },
    {
      "cell_type": "code",
      "execution_count": null,
      "metadata": {
        "id": "DguFOi8BNjX7"
      },
      "outputs": [],
      "source": [
        "import pandas as pd\n",
        "import numpy as np\n",
        "from datetime import datetime as dt"
      ]
    },
    {
      "cell_type": "code",
      "execution_count": null,
      "metadata": {
        "id": "uPiFCJy3Nr5O"
      },
      "outputs": [],
      "source": [
        "data = pd.read_csv(\"/content/drive/Shareddrives/Big Data Final/NYC Taxi Data/train.csv\")"
      ]
    },
    {
      "cell_type": "code",
      "execution_count": null,
      "metadata": {
        "colab": {
          "base_uri": "https://localhost:8080/",
          "height": 215
        },
        "id": "DzgffsqNtmZR",
        "outputId": "d0267a27-ef66-470e-847b-9fcf97318a73"
      },
      "outputs": [
        {
          "data": {
            "text/html": [
              "\n",
              "  <div id=\"df-573eeb9e-7dda-4e2b-85f9-448ffeae02c1\">\n",
              "    <div class=\"colab-df-container\">\n",
              "      <div>\n",
              "<style scoped>\n",
              "    .dataframe tbody tr th:only-of-type {\n",
              "        vertical-align: middle;\n",
              "    }\n",
              "\n",
              "    .dataframe tbody tr th {\n",
              "        vertical-align: top;\n",
              "    }\n",
              "\n",
              "    .dataframe thead th {\n",
              "        text-align: right;\n",
              "    }\n",
              "</style>\n",
              "<table border=\"1\" class=\"dataframe\">\n",
              "  <thead>\n",
              "    <tr style=\"text-align: right;\">\n",
              "      <th></th>\n",
              "      <th>id</th>\n",
              "      <th>vendor_id</th>\n",
              "      <th>pickup_datetime</th>\n",
              "      <th>dropoff_datetime</th>\n",
              "      <th>passenger_count</th>\n",
              "      <th>pickup_longitude</th>\n",
              "      <th>pickup_latitude</th>\n",
              "      <th>dropoff_longitude</th>\n",
              "      <th>dropoff_latitude</th>\n",
              "      <th>store_and_fwd_flag</th>\n",
              "      <th>trip_duration</th>\n",
              "    </tr>\n",
              "  </thead>\n",
              "  <tbody>\n",
              "    <tr>\n",
              "      <th>0</th>\n",
              "      <td>id2875421</td>\n",
              "      <td>2</td>\n",
              "      <td>2016-03-14 17:24:55</td>\n",
              "      <td>2016-03-14 17:32:30</td>\n",
              "      <td>1</td>\n",
              "      <td>-73.982155</td>\n",
              "      <td>40.767937</td>\n",
              "      <td>-73.964630</td>\n",
              "      <td>40.765602</td>\n",
              "      <td>N</td>\n",
              "      <td>455</td>\n",
              "    </tr>\n",
              "    <tr>\n",
              "      <th>1</th>\n",
              "      <td>id2377394</td>\n",
              "      <td>1</td>\n",
              "      <td>2016-06-12 00:43:35</td>\n",
              "      <td>2016-06-12 00:54:38</td>\n",
              "      <td>1</td>\n",
              "      <td>-73.980415</td>\n",
              "      <td>40.738564</td>\n",
              "      <td>-73.999481</td>\n",
              "      <td>40.731152</td>\n",
              "      <td>N</td>\n",
              "      <td>663</td>\n",
              "    </tr>\n",
              "    <tr>\n",
              "      <th>2</th>\n",
              "      <td>id3858529</td>\n",
              "      <td>2</td>\n",
              "      <td>2016-01-19 11:35:24</td>\n",
              "      <td>2016-01-19 12:10:48</td>\n",
              "      <td>1</td>\n",
              "      <td>-73.979027</td>\n",
              "      <td>40.763939</td>\n",
              "      <td>-74.005333</td>\n",
              "      <td>40.710087</td>\n",
              "      <td>N</td>\n",
              "      <td>2124</td>\n",
              "    </tr>\n",
              "    <tr>\n",
              "      <th>3</th>\n",
              "      <td>id3504673</td>\n",
              "      <td>2</td>\n",
              "      <td>2016-04-06 19:32:31</td>\n",
              "      <td>2016-04-06 19:39:40</td>\n",
              "      <td>1</td>\n",
              "      <td>-74.010040</td>\n",
              "      <td>40.719971</td>\n",
              "      <td>-74.012268</td>\n",
              "      <td>40.706718</td>\n",
              "      <td>N</td>\n",
              "      <td>429</td>\n",
              "    </tr>\n",
              "    <tr>\n",
              "      <th>4</th>\n",
              "      <td>id2181028</td>\n",
              "      <td>2</td>\n",
              "      <td>2016-03-26 13:30:55</td>\n",
              "      <td>2016-03-26 13:38:10</td>\n",
              "      <td>1</td>\n",
              "      <td>-73.973053</td>\n",
              "      <td>40.793209</td>\n",
              "      <td>-73.972923</td>\n",
              "      <td>40.782520</td>\n",
              "      <td>N</td>\n",
              "      <td>435</td>\n",
              "    </tr>\n",
              "  </tbody>\n",
              "</table>\n",
              "</div>\n",
              "      <button class=\"colab-df-convert\" onclick=\"convertToInteractive('df-573eeb9e-7dda-4e2b-85f9-448ffeae02c1')\"\n",
              "              title=\"Convert this dataframe to an interactive table.\"\n",
              "              style=\"display:none;\">\n",
              "        \n",
              "  <svg xmlns=\"http://www.w3.org/2000/svg\" height=\"24px\"viewBox=\"0 0 24 24\"\n",
              "       width=\"24px\">\n",
              "    <path d=\"M0 0h24v24H0V0z\" fill=\"none\"/>\n",
              "    <path d=\"M18.56 5.44l.94 2.06.94-2.06 2.06-.94-2.06-.94-.94-2.06-.94 2.06-2.06.94zm-11 1L8.5 8.5l.94-2.06 2.06-.94-2.06-.94L8.5 2.5l-.94 2.06-2.06.94zm10 10l.94 2.06.94-2.06 2.06-.94-2.06-.94-.94-2.06-.94 2.06-2.06.94z\"/><path d=\"M17.41 7.96l-1.37-1.37c-.4-.4-.92-.59-1.43-.59-.52 0-1.04.2-1.43.59L10.3 9.45l-7.72 7.72c-.78.78-.78 2.05 0 2.83L4 21.41c.39.39.9.59 1.41.59.51 0 1.02-.2 1.41-.59l7.78-7.78 2.81-2.81c.8-.78.8-2.07 0-2.86zM5.41 20L4 18.59l7.72-7.72 1.47 1.35L5.41 20z\"/>\n",
              "  </svg>\n",
              "      </button>\n",
              "      \n",
              "  <style>\n",
              "    .colab-df-container {\n",
              "      display:flex;\n",
              "      flex-wrap:wrap;\n",
              "      gap: 12px;\n",
              "    }\n",
              "\n",
              "    .colab-df-convert {\n",
              "      background-color: #E8F0FE;\n",
              "      border: none;\n",
              "      border-radius: 50%;\n",
              "      cursor: pointer;\n",
              "      display: none;\n",
              "      fill: #1967D2;\n",
              "      height: 32px;\n",
              "      padding: 0 0 0 0;\n",
              "      width: 32px;\n",
              "    }\n",
              "\n",
              "    .colab-df-convert:hover {\n",
              "      background-color: #E2EBFA;\n",
              "      box-shadow: 0px 1px 2px rgba(60, 64, 67, 0.3), 0px 1px 3px 1px rgba(60, 64, 67, 0.15);\n",
              "      fill: #174EA6;\n",
              "    }\n",
              "\n",
              "    [theme=dark] .colab-df-convert {\n",
              "      background-color: #3B4455;\n",
              "      fill: #D2E3FC;\n",
              "    }\n",
              "\n",
              "    [theme=dark] .colab-df-convert:hover {\n",
              "      background-color: #434B5C;\n",
              "      box-shadow: 0px 1px 3px 1px rgba(0, 0, 0, 0.15);\n",
              "      filter: drop-shadow(0px 1px 2px rgba(0, 0, 0, 0.3));\n",
              "      fill: #FFFFFF;\n",
              "    }\n",
              "  </style>\n",
              "\n",
              "      <script>\n",
              "        const buttonEl =\n",
              "          document.querySelector('#df-573eeb9e-7dda-4e2b-85f9-448ffeae02c1 button.colab-df-convert');\n",
              "        buttonEl.style.display =\n",
              "          google.colab.kernel.accessAllowed ? 'block' : 'none';\n",
              "\n",
              "        async function convertToInteractive(key) {\n",
              "          const element = document.querySelector('#df-573eeb9e-7dda-4e2b-85f9-448ffeae02c1');\n",
              "          const dataTable =\n",
              "            await google.colab.kernel.invokeFunction('convertToInteractive',\n",
              "                                                     [key], {});\n",
              "          if (!dataTable) return;\n",
              "\n",
              "          const docLinkHtml = 'Like what you see? Visit the ' +\n",
              "            '<a target=\"_blank\" href=https://colab.research.google.com/notebooks/data_table.ipynb>data table notebook</a>'\n",
              "            + ' to learn more about interactive tables.';\n",
              "          element.innerHTML = '';\n",
              "          dataTable['output_type'] = 'display_data';\n",
              "          await google.colab.output.renderOutput(dataTable, element);\n",
              "          const docLink = document.createElement('div');\n",
              "          docLink.innerHTML = docLinkHtml;\n",
              "          element.appendChild(docLink);\n",
              "        }\n",
              "      </script>\n",
              "    </div>\n",
              "  </div>\n",
              "  "
            ],
            "text/plain": [
              "          id  vendor_id      pickup_datetime     dropoff_datetime  \\\n",
              "0  id2875421          2  2016-03-14 17:24:55  2016-03-14 17:32:30   \n",
              "1  id2377394          1  2016-06-12 00:43:35  2016-06-12 00:54:38   \n",
              "2  id3858529          2  2016-01-19 11:35:24  2016-01-19 12:10:48   \n",
              "3  id3504673          2  2016-04-06 19:32:31  2016-04-06 19:39:40   \n",
              "4  id2181028          2  2016-03-26 13:30:55  2016-03-26 13:38:10   \n",
              "\n",
              "   passenger_count  pickup_longitude  pickup_latitude  dropoff_longitude  \\\n",
              "0                1        -73.982155        40.767937         -73.964630   \n",
              "1                1        -73.980415        40.738564         -73.999481   \n",
              "2                1        -73.979027        40.763939         -74.005333   \n",
              "3                1        -74.010040        40.719971         -74.012268   \n",
              "4                1        -73.973053        40.793209         -73.972923   \n",
              "\n",
              "   dropoff_latitude store_and_fwd_flag  trip_duration  \n",
              "0         40.765602                  N            455  \n",
              "1         40.731152                  N            663  \n",
              "2         40.710087                  N           2124  \n",
              "3         40.706718                  N            429  \n",
              "4         40.782520                  N            435  "
            ]
          },
          "execution_count": 7,
          "metadata": {},
          "output_type": "execute_result"
        }
      ],
      "source": [
        "data"
      ]
    },
    {
      "cell_type": "markdown",
      "metadata": {
        "id": "M5nQLFVTJpSb"
      },
      "source": [
        "## Data Transformation"
      ]
    },
    {
      "cell_type": "code",
      "execution_count": null,
      "metadata": {
        "id": "bh5ZKf3UTWvg"
      },
      "outputs": [],
      "source": [
        "#Datetime transformation & feature extraction\n",
        "data['pickup_datetime']=pd.to_datetime(data['pickup_datetime'])\n",
        "\n",
        "weekday_converter=lambda x: x.weekday()\n",
        "hour_converter=lambda x: x.hour\n",
        "month_converter=lambda x: x.month\n",
        "\n",
        "data['pickup_month']=data['pickup_datetime'].apply(month_converter)\n",
        "data['pickup_weekday']=data['pickup_datetime'].apply(weekday_converter)\n",
        "data['pickup_hour']=data['pickup_datetime'].apply(hour_converter)"
      ]
    },
    {
      "cell_type": "code",
      "execution_count": null,
      "metadata": {
        "id": "PRS6MROAV2D9"
      },
      "outputs": [],
      "source": [
        "data=data.drop(columns=['dropoff_datetime','id','pickup_datetime'])"
      ]
    },
    {
      "cell_type": "code",
      "execution_count": null,
      "metadata": {
        "id": "nu55g-IAIzWI"
      },
      "outputs": [],
      "source": [
        "#Eliminate outliers\n",
        "data= data[(data.trip_duration <8000)]"
      ]
    },
    {
      "cell_type": "code",
      "execution_count": null,
      "metadata": {
        "id": "cVFxF0L8JIaX"
      },
      "outputs": [],
      "source": [
        "#For computational efficiency, we randonly choose 100,000 rows from the mega dataset.\n",
        "#df=data.sample(n=100000)\n",
        "df=data.copy()"
      ]
    },
    {
      "cell_type": "code",
      "execution_count": null,
      "metadata": {
        "id": "fr0xw_9iX1ih"
      },
      "outputs": [],
      "source": [
        "#Dummy coding (Step 1).\n",
        "cvar_list=['vendor_id','store_and_fwd_flag','pickup_weekday', 'pickup_hour', 'pickup_month']\n",
        "nvar_list=['passenger_count','pickup_longitude','pickup_latitude','dropoff_longitude','dropoff_latitude', 'trip_duration']\n",
        "\n",
        "df[cvar_list] = df[cvar_list].astype('category')\n",
        "df[nvar_list] = df[nvar_list].astype('float64')\n",
        "\n",
        "df = pd.get_dummies(df, prefix_sep='_')"
      ]
    },
    {
      "cell_type": "code",
      "execution_count": null,
      "metadata": {
        "colab": {
          "base_uri": "https://localhost:8080/"
        },
        "id": "v5s9NfPLYlwB",
        "outputId": "55e1d42a-0c29-49ca-df0e-3b2bbfbee335"
      },
      "outputs": [
        {
          "output_type": "stream",
          "name": "stdout",
          "text": [
            "['passenger_count' 'pickup_longitude' 'pickup_latitude'\n",
            " 'dropoff_longitude' 'dropoff_latitude' 'trip_duration' 'vendor_id_1'\n",
            " 'store_and_fwd_flag_Y' 'pickup_month_2' 'pickup_month_3' 'pickup_month_4'\n",
            " 'pickup_month_5' 'pickup_month_6' 'pickup_weekday_0' 'pickup_weekday_1'\n",
            " 'pickup_weekday_2' 'pickup_weekday_3' 'pickup_weekday_5'\n",
            " 'pickup_weekday_6' 'pickup_hour_0' 'pickup_hour_1' 'pickup_hour_2'\n",
            " 'pickup_hour_3' 'pickup_hour_4' 'pickup_hour_5' 'pickup_hour_6'\n",
            " 'pickup_hour_7' 'pickup_hour_8' 'pickup_hour_9' 'pickup_hour_10'\n",
            " 'pickup_hour_11' 'pickup_hour_12' 'pickup_hour_13' 'pickup_hour_14'\n",
            " 'pickup_hour_15' 'pickup_hour_16' 'pickup_hour_17' 'pickup_hour_19'\n",
            " 'pickup_hour_20' 'pickup_hour_21' 'pickup_hour_22' 'pickup_hour_23']\n"
          ]
        }
      ],
      "source": [
        "# Remove the redundant dummies (Step 2 of dummy coding)\n",
        "rdummies = ['vendor_id_2', 'store_and_fwd_flag_N', 'pickup_weekday_4', 'pickup_hour_18', 'pickup_month_1']\n",
        "df = df.drop(columns=rdummies)\n",
        "print(df.columns.values)"
      ]
    },
    {
      "cell_type": "markdown",
      "source": [
        "## Machine Learning"
      ],
      "metadata": {
        "id": "vl_0q7Skee2Z"
      }
    },
    {
      "cell_type": "code",
      "execution_count": null,
      "metadata": {
        "id": "aoiZ0einGMdd"
      },
      "outputs": [],
      "source": [
        "# Data Partiton\n",
        "\n",
        "from sklearn.model_selection import train_test_split\n",
        "\n",
        "df_partition = df\n",
        "testpart_size = 0.2\n",
        "\n",
        "# random_state specifies the seed for random number generator. \n",
        "# random_state = 1 unless otherwised noted\n",
        "df_nontestData, df_testData = train_test_split(df_partition, test_size=testpart_size, random_state=1)"
      ]
    },
    {
      "cell_type": "code",
      "execution_count": null,
      "metadata": {
        "id": "jsU1ISBAJCEo"
      },
      "outputs": [],
      "source": [
        "from sklearn.neural_network import MLPRegressor"
      ]
    },
    {
      "cell_type": "code",
      "execution_count": null,
      "metadata": {
        "id": "jroks8xZUTO4"
      },
      "outputs": [],
      "source": [
        "# Prepare train and test sets.\n",
        "DV = 'trip_duration'\n",
        "ytrain = df_nontestData[DV]\n",
        "xtrain = df_nontestData.drop(columns=[DV])\n",
        "xtest = df_testData.drop(columns=[DV])\n",
        "ytest = df_testData[DV]"
      ]
    },
    {
      "cell_type": "markdown",
      "metadata": {
        "id": "-5wyNqdlNGZU"
      },
      "source": [
        "## Neural network"
      ]
    },
    {
      "cell_type": "code",
      "execution_count": null,
      "metadata": {
        "id": "nXQl7FUUUlCl"
      },
      "outputs": [],
      "source": [
        "#prepare data input for neural network\n",
        "\n",
        "clf = MLPRegressor(max_iter=2000, random_state=1).fit(X,y)\n"
      ]
    },
    {
      "cell_type": "code",
      "execution_count": null,
      "metadata": {
        "colab": {
          "base_uri": "https://localhost:8080/"
        },
        "id": "6ygqBlHin8he",
        "outputId": "b131479c-6cfd-4370-b974-d1ec1598ee96"
      },
      "outputs": [
        {
          "data": {
            "text/plain": [
              "-0.0003051070742809969"
            ]
          },
          "execution_count": 41,
          "metadata": {},
          "output_type": "execute_result"
        }
      ],
      "source": [
        "clf.score(df_testData.drop(columns=[DV]),df_testData[DV])"
      ]
    },
    {
      "cell_type": "code",
      "execution_count": null,
      "metadata": {
        "id": "eJ265N0SvcQU"
      },
      "outputs": [],
      "source": [
        "from sklearn.model_selection import GridSearchCV"
      ]
    },
    {
      "cell_type": "code",
      "execution_count": null,
      "metadata": {
        "id": "QxYiXoswvrW1"
      },
      "outputs": [],
      "source": [
        "# make a dictionary of hyperparameter values to search.\n",
        "param_grid = {'hidden_layer_sizes': [(50,50,50), (50,100,50), (100,1)],\n",
        "          'activation': ['relu','tanh','logistic'],\n",
        "          'alpha': [0.0001, 0.05],\n",
        "          'learning_rate': ['constant','adaptive'],\n",
        "          'solver': ['adam']}"
      ]
    },
    {
      "cell_type": "code",
      "execution_count": null,
      "metadata": {
        "colab": {
          "base_uri": "https://localhost:8080/"
        },
        "id": "aU0xtwlVxNfr",
        "outputId": "b8270988-5d35-488b-c7f1-4e6e3244f4d4"
      },
      "outputs": [
        {
          "name": "stdout",
          "output_type": "stream",
          "text": [
            "Fitting 5 folds for each of 36 candidates, totalling 180 fits\n"
          ]
        }
      ],
      "source": [
        "# Cross validation on Neural Network.\n",
        "gridsearch = GridSearchCV(MLPRegressor(max_iter=2000, random_state=1).fit(X,y), \n",
        "                          param_grid=param_grid, \n",
        "                          scoring = [\"r2\", \"neg_root_mean_squared_error\"], \n",
        "                          refit = \"r2\", cv=5, n_jobs=-1, verbose=4)\n",
        "gridsearch.fit(X,y)\n",
        "clf_NN = gridsearch.best_estimator_"
      ]
    },
    {
      "cell_type": "code",
      "execution_count": null,
      "metadata": {
        "colab": {
          "base_uri": "https://localhost:8080/"
        },
        "id": "YpmOkPS6wEU5",
        "outputId": "26d06cb0-340e-4f57-81b1-cec3e3e964e9"
      },
      "outputs": [
        {
          "data": {
            "text/plain": [
              "0.004385652767810444"
            ]
          },
          "execution_count": 47,
          "metadata": {},
          "output_type": "execute_result"
        }
      ],
      "source": [
        "#R-sqaured\n",
        "clf_NN.score(df_testData.drop(columns=[DV]),df_testData[DV])"
      ]
    },
    {
      "cell_type": "markdown",
      "metadata": {
        "id": "WQ3JZp8_Im7o"
      },
      "source": [
        "### XGBoost"
      ]
    },
    {
      "cell_type": "code",
      "execution_count": null,
      "metadata": {
        "colab": {
          "base_uri": "https://localhost:8080/"
        },
        "id": "hQGth0e5ImYH",
        "outputId": "ae6607d2-c0cd-4a60-d787-1ce39803c4c5"
      },
      "outputs": [
        {
          "name": "stdout",
          "output_type": "stream",
          "text": [
            "Requirement already satisfied: xgboost in /usr/local/lib/python3.7/dist-packages (0.90)\n",
            "Requirement already satisfied: numpy in /usr/local/lib/python3.7/dist-packages (from xgboost) (1.21.6)\n",
            "Requirement already satisfied: scipy in /usr/local/lib/python3.7/dist-packages (from xgboost) (1.4.1)\n"
          ]
        }
      ],
      "source": [
        "#pip install xgboost"
      ]
    },
    {
      "cell_type": "code",
      "execution_count": null,
      "metadata": {
        "id": "iRLeUoWCE0XT"
      },
      "outputs": [],
      "source": [
        "from xgboost import XGBRegressor"
      ]
    },
    {
      "cell_type": "code",
      "source": [
        "xgb_full=XGBRegressor(gamma=0.1, max_depth=8, n_estimators=500, random_state=2)"
      ],
      "metadata": {
        "id": "hSukQcTXkLic"
      },
      "execution_count": null,
      "outputs": []
    },
    {
      "cell_type": "code",
      "source": [
        "xgb_full_fit=xgb_full.fit(xtrain, ytrain)"
      ],
      "metadata": {
        "colab": {
          "base_uri": "https://localhost:8080/"
        },
        "id": "0nFYSyQ-kMpV",
        "outputId": "7d1a52cb-1aaf-45bf-d885-bb067d732582"
      },
      "execution_count": null,
      "outputs": [
        {
          "output_type": "stream",
          "name": "stdout",
          "text": [
            "[21:42:59] WARNING: /workspace/src/objective/regression_obj.cu:152: reg:linear is now deprecated in favor of reg:squarederror.\n"
          ]
        }
      ]
    },
    {
      "cell_type": "code",
      "source": [
        "xgb_full_fit.score(xtest,ytest)"
      ],
      "metadata": {
        "colab": {
          "base_uri": "https://localhost:8080/"
        },
        "id": "vEKqkjrFkMzM",
        "outputId": "ba1317e2-c05b-4776-cd8f-45ded830ab48"
      },
      "execution_count": null,
      "outputs": [
        {
          "output_type": "execute_result",
          "data": {
            "text/plain": [
              "0.7981180363340135"
            ]
          },
          "metadata": {},
          "execution_count": 42
        }
      ]
    },
    {
      "cell_type": "code",
      "source": [],
      "metadata": {
        "id": "Xxg8ZjrxkM9b"
      },
      "execution_count": null,
      "outputs": []
    },
    {
      "cell_type": "code",
      "execution_count": null,
      "metadata": {
        "id": "jTlK3xKxJfJ9"
      },
      "outputs": [],
      "source": [
        "#Initiate the XGBoost model.\n",
        "xgb=XGBRegressor(random_state=2)"
      ]
    },
    {
      "cell_type": "code",
      "execution_count": null,
      "metadata": {
        "id": "gWteUiSIJlQu"
      },
      "outputs": [],
      "source": [
        "# make a dictionary of hyperparameter values to search.\n",
        "search_space = {\n",
        "    \"n_estimators\" : [300, 400, 500],\n",
        "    \"max_depth\" : [4, 6, 8],\n",
        "    \"gamma\" : [0.01, 0.1],\n",
        "    \"learning_rate\" : [0.01, 0.1]\n",
        "}"
      ]
    },
    {
      "cell_type": "code",
      "execution_count": null,
      "metadata": {
        "colab": {
          "base_uri": "https://localhost:8080/"
        },
        "id": "F8AF73XzJpLw",
        "outputId": "33bccc94-1ca0-454a-b776-d2ae954cdf85"
      },
      "outputs": [
        {
          "output_type": "stream",
          "name": "stdout",
          "text": [
            "Fitting 5 folds for each of 36 candidates, totalling 180 fits\n",
            "[17:40:02] WARNING: /workspace/src/objective/regression_obj.cu:152: reg:linear is now deprecated in favor of reg:squarederror.\n",
            "[CV 1/5] END gamma=0.01, learning_rate=0.01, max_depth=4, n_estimators=300; neg_root_mean_squared_error: (test=-459.175) r2: (test=0.493) total time=  27.9s\n",
            "[17:40:30] WARNING: /workspace/src/objective/regression_obj.cu:152: reg:linear is now deprecated in favor of reg:squarederror.\n",
            "[CV 2/5] END gamma=0.01, learning_rate=0.01, max_depth=4, n_estimators=300; neg_root_mean_squared_error: (test=-455.757) r2: (test=0.509) total time=  28.9s\n",
            "[17:40:59] WARNING: /workspace/src/objective/regression_obj.cu:152: reg:linear is now deprecated in favor of reg:squarederror.\n",
            "[CV 3/5] END gamma=0.01, learning_rate=0.01, max_depth=4, n_estimators=300; neg_root_mean_squared_error: (test=-466.057) r2: (test=0.501) total time=  28.0s\n",
            "[17:41:27] WARNING: /workspace/src/objective/regression_obj.cu:152: reg:linear is now deprecated in favor of reg:squarederror.\n",
            "[CV 4/5] END gamma=0.01, learning_rate=0.01, max_depth=4, n_estimators=300; neg_root_mean_squared_error: (test=-466.615) r2: (test=0.501) total time=  27.7s\n",
            "[17:41:55] WARNING: /workspace/src/objective/regression_obj.cu:152: reg:linear is now deprecated in favor of reg:squarederror.\n",
            "[CV 5/5] END gamma=0.01, learning_rate=0.01, max_depth=4, n_estimators=300; neg_root_mean_squared_error: (test=-468.998) r2: (test=0.488) total time=  27.6s\n",
            "[17:42:23] WARNING: /workspace/src/objective/regression_obj.cu:152: reg:linear is now deprecated in favor of reg:squarederror.\n",
            "[CV 1/5] END gamma=0.01, learning_rate=0.01, max_depth=4, n_estimators=400; neg_root_mean_squared_error: (test=-445.707) r2: (test=0.522) total time=  36.9s\n",
            "[17:42:59] WARNING: /workspace/src/objective/regression_obj.cu:152: reg:linear is now deprecated in favor of reg:squarederror.\n",
            "[CV 2/5] END gamma=0.01, learning_rate=0.01, max_depth=4, n_estimators=400; neg_root_mean_squared_error: (test=-443.391) r2: (test=0.536) total time=  36.7s\n",
            "[17:43:36] WARNING: /workspace/src/objective/regression_obj.cu:152: reg:linear is now deprecated in favor of reg:squarederror.\n",
            "[CV 3/5] END gamma=0.01, learning_rate=0.01, max_depth=4, n_estimators=400; neg_root_mean_squared_error: (test=-451.030) r2: (test=0.533) total time=  36.8s\n",
            "[17:44:13] WARNING: /workspace/src/objective/regression_obj.cu:152: reg:linear is now deprecated in favor of reg:squarederror.\n",
            "[CV 4/5] END gamma=0.01, learning_rate=0.01, max_depth=4, n_estimators=400; neg_root_mean_squared_error: (test=-454.353) r2: (test=0.527) total time=  36.7s\n",
            "[17:44:50] WARNING: /workspace/src/objective/regression_obj.cu:152: reg:linear is now deprecated in favor of reg:squarederror.\n",
            "[CV 5/5] END gamma=0.01, learning_rate=0.01, max_depth=4, n_estimators=400; neg_root_mean_squared_error: (test=-454.020) r2: (test=0.520) total time=  37.0s\n",
            "[17:45:27] WARNING: /workspace/src/objective/regression_obj.cu:152: reg:linear is now deprecated in favor of reg:squarederror.\n",
            "[CV 1/5] END gamma=0.01, learning_rate=0.01, max_depth=4, n_estimators=500; neg_root_mean_squared_error: (test=-437.815) r2: (test=0.539) total time=  46.4s\n",
            "[17:46:13] WARNING: /workspace/src/objective/regression_obj.cu:152: reg:linear is now deprecated in favor of reg:squarederror.\n",
            "[CV 2/5] END gamma=0.01, learning_rate=0.01, max_depth=4, n_estimators=500; neg_root_mean_squared_error: (test=-434.695) r2: (test=0.554) total time=  45.9s\n",
            "[17:46:59] WARNING: /workspace/src/objective/regression_obj.cu:152: reg:linear is now deprecated in favor of reg:squarederror.\n",
            "[CV 3/5] END gamma=0.01, learning_rate=0.01, max_depth=4, n_estimators=500; neg_root_mean_squared_error: (test=-441.960) r2: (test=0.551) total time=  46.0s\n",
            "[17:47:45] WARNING: /workspace/src/objective/regression_obj.cu:152: reg:linear is now deprecated in favor of reg:squarederror.\n",
            "[CV 4/5] END gamma=0.01, learning_rate=0.01, max_depth=4, n_estimators=500; neg_root_mean_squared_error: (test=-443.879) r2: (test=0.549) total time=  46.5s\n",
            "[17:48:32] WARNING: /workspace/src/objective/regression_obj.cu:152: reg:linear is now deprecated in favor of reg:squarederror.\n",
            "[CV 5/5] END gamma=0.01, learning_rate=0.01, max_depth=4, n_estimators=500; neg_root_mean_squared_error: (test=-444.123) r2: (test=0.541) total time=  46.8s\n",
            "[17:49:18] WARNING: /workspace/src/objective/regression_obj.cu:152: reg:linear is now deprecated in favor of reg:squarederror.\n",
            "[CV 1/5] END gamma=0.01, learning_rate=0.01, max_depth=6, n_estimators=300; neg_root_mean_squared_error: (test=-432.265) r2: (test=0.551) total time=  44.2s\n",
            "[17:50:03] WARNING: /workspace/src/objective/regression_obj.cu:152: reg:linear is now deprecated in favor of reg:squarederror.\n",
            "[CV 2/5] END gamma=0.01, learning_rate=0.01, max_depth=6, n_estimators=300; neg_root_mean_squared_error: (test=-428.183) r2: (test=0.567) total time=  42.7s\n",
            "[17:50:45] WARNING: /workspace/src/objective/regression_obj.cu:152: reg:linear is now deprecated in favor of reg:squarederror.\n",
            "[CV 3/5] END gamma=0.01, learning_rate=0.01, max_depth=6, n_estimators=300; neg_root_mean_squared_error: (test=-433.455) r2: (test=0.568) total time=  42.4s\n",
            "[17:51:28] WARNING: /workspace/src/objective/regression_obj.cu:152: reg:linear is now deprecated in favor of reg:squarederror.\n",
            "[CV 4/5] END gamma=0.01, learning_rate=0.01, max_depth=6, n_estimators=300; neg_root_mean_squared_error: (test=-438.397) r2: (test=0.560) total time=  42.7s\n",
            "[17:52:11] WARNING: /workspace/src/objective/regression_obj.cu:152: reg:linear is now deprecated in favor of reg:squarederror.\n",
            "[CV 5/5] END gamma=0.01, learning_rate=0.01, max_depth=6, n_estimators=300; neg_root_mean_squared_error: (test=-438.467) r2: (test=0.552) total time=  42.3s\n",
            "[17:52:53] WARNING: /workspace/src/objective/regression_obj.cu:152: reg:linear is now deprecated in favor of reg:squarederror.\n",
            "[CV 1/5] END gamma=0.01, learning_rate=0.01, max_depth=6, n_estimators=400; neg_root_mean_squared_error: (test=-420.155) r2: (test=0.575) total time=  56.5s\n",
            "[17:53:49] WARNING: /workspace/src/objective/regression_obj.cu:152: reg:linear is now deprecated in favor of reg:squarederror.\n",
            "[CV 2/5] END gamma=0.01, learning_rate=0.01, max_depth=6, n_estimators=400; neg_root_mean_squared_error: (test=-417.585) r2: (test=0.588) total time=  55.2s\n",
            "[17:54:45] WARNING: /workspace/src/objective/regression_obj.cu:152: reg:linear is now deprecated in favor of reg:squarederror.\n",
            "[CV 3/5] END gamma=0.01, learning_rate=0.01, max_depth=6, n_estimators=400; neg_root_mean_squared_error: (test=-422.166) r2: (test=0.591) total time=  55.7s\n",
            "[17:55:40] WARNING: /workspace/src/objective/regression_obj.cu:152: reg:linear is now deprecated in favor of reg:squarederror.\n",
            "[CV 4/5] END gamma=0.01, learning_rate=0.01, max_depth=6, n_estimators=400; neg_root_mean_squared_error: (test=-427.443) r2: (test=0.581) total time=  55.7s\n",
            "[17:56:36] WARNING: /workspace/src/objective/regression_obj.cu:152: reg:linear is now deprecated in favor of reg:squarederror.\n",
            "[CV 5/5] END gamma=0.01, learning_rate=0.01, max_depth=6, n_estimators=400; neg_root_mean_squared_error: (test=-427.618) r2: (test=0.574) total time=  55.1s\n",
            "[17:57:31] WARNING: /workspace/src/objective/regression_obj.cu:152: reg:linear is now deprecated in favor of reg:squarederror.\n",
            "[CV 1/5] END gamma=0.01, learning_rate=0.01, max_depth=6, n_estimators=500; neg_root_mean_squared_error: (test=-409.041) r2: (test=0.598) total time= 1.2min\n",
            "[17:58:40] WARNING: /workspace/src/objective/regression_obj.cu:152: reg:linear is now deprecated in favor of reg:squarederror.\n",
            "[CV 2/5] END gamma=0.01, learning_rate=0.01, max_depth=6, n_estimators=500; neg_root_mean_squared_error: (test=-406.385) r2: (test=0.610) total time= 1.2min\n",
            "[17:59:50] WARNING: /workspace/src/objective/regression_obj.cu:152: reg:linear is now deprecated in favor of reg:squarederror.\n",
            "[CV 3/5] END gamma=0.01, learning_rate=0.01, max_depth=6, n_estimators=500; neg_root_mean_squared_error: (test=-411.108) r2: (test=0.612) total time= 1.2min\n",
            "[18:00:59] WARNING: /workspace/src/objective/regression_obj.cu:152: reg:linear is now deprecated in favor of reg:squarederror.\n",
            "[CV 4/5] END gamma=0.01, learning_rate=0.01, max_depth=6, n_estimators=500; neg_root_mean_squared_error: (test=-416.036) r2: (test=0.603) total time= 1.2min\n",
            "[18:02:09] WARNING: /workspace/src/objective/regression_obj.cu:152: reg:linear is now deprecated in favor of reg:squarederror.\n",
            "[CV 5/5] END gamma=0.01, learning_rate=0.01, max_depth=6, n_estimators=500; neg_root_mean_squared_error: (test=-415.498) r2: (test=0.598) total time= 1.2min\n",
            "[18:03:18] WARNING: /workspace/src/objective/regression_obj.cu:152: reg:linear is now deprecated in favor of reg:squarederror.\n",
            "[CV 1/5] END gamma=0.01, learning_rate=0.01, max_depth=8, n_estimators=300; neg_root_mean_squared_error: (test=-410.523) r2: (test=0.595) total time=  59.1s\n",
            "[18:04:17] WARNING: /workspace/src/objective/regression_obj.cu:152: reg:linear is now deprecated in favor of reg:squarederror.\n",
            "[CV 2/5] END gamma=0.01, learning_rate=0.01, max_depth=8, n_estimators=300; neg_root_mean_squared_error: (test=-402.836) r2: (test=0.617) total time=  59.4s\n",
            "[18:05:17] WARNING: /workspace/src/objective/regression_obj.cu:152: reg:linear is now deprecated in favor of reg:squarederror.\n",
            "[CV 3/5] END gamma=0.01, learning_rate=0.01, max_depth=8, n_estimators=300; neg_root_mean_squared_error: (test=-414.226) r2: (test=0.606) total time=  59.1s\n",
            "[18:06:16] WARNING: /workspace/src/objective/regression_obj.cu:152: reg:linear is now deprecated in favor of reg:squarederror.\n",
            "[CV 4/5] END gamma=0.01, learning_rate=0.01, max_depth=8, n_estimators=300; neg_root_mean_squared_error: (test=-415.645) r2: (test=0.604) total time=  59.3s\n",
            "[18:07:15] WARNING: /workspace/src/objective/regression_obj.cu:152: reg:linear is now deprecated in favor of reg:squarederror.\n",
            "[CV 5/5] END gamma=0.01, learning_rate=0.01, max_depth=8, n_estimators=300; neg_root_mean_squared_error: (test=-414.230) r2: (test=0.600) total time=  59.2s\n",
            "[18:08:14] WARNING: /workspace/src/objective/regression_obj.cu:152: reg:linear is now deprecated in favor of reg:squarederror.\n",
            "[CV 1/5] END gamma=0.01, learning_rate=0.01, max_depth=8, n_estimators=400; neg_root_mean_squared_error: (test=-396.094) r2: (test=0.623) total time= 1.3min\n",
            "[18:09:33] WARNING: /workspace/src/objective/regression_obj.cu:152: reg:linear is now deprecated in favor of reg:squarederror.\n",
            "[CV 2/5] END gamma=0.01, learning_rate=0.01, max_depth=8, n_estimators=400; neg_root_mean_squared_error: (test=-389.000) r2: (test=0.642) total time= 1.3min\n",
            "[18:10:52] WARNING: /workspace/src/objective/regression_obj.cu:152: reg:linear is now deprecated in favor of reg:squarederror.\n",
            "[CV 3/5] END gamma=0.01, learning_rate=0.01, max_depth=8, n_estimators=400; neg_root_mean_squared_error: (test=-399.257) r2: (test=0.634) total time= 1.3min\n",
            "[18:12:11] WARNING: /workspace/src/objective/regression_obj.cu:152: reg:linear is now deprecated in favor of reg:squarederror.\n",
            "[CV 4/5] END gamma=0.01, learning_rate=0.01, max_depth=8, n_estimators=400; neg_root_mean_squared_error: (test=-399.646) r2: (test=0.634) total time= 1.3min\n",
            "[18:13:29] WARNING: /workspace/src/objective/regression_obj.cu:152: reg:linear is now deprecated in favor of reg:squarederror.\n",
            "[CV 5/5] END gamma=0.01, learning_rate=0.01, max_depth=8, n_estimators=400; neg_root_mean_squared_error: (test=-398.992) r2: (test=0.629) total time= 1.3min\n",
            "[18:14:48] WARNING: /workspace/src/objective/regression_obj.cu:152: reg:linear is now deprecated in favor of reg:squarederror.\n",
            "[CV 1/5] END gamma=0.01, learning_rate=0.01, max_depth=8, n_estimators=500; neg_root_mean_squared_error: (test=-386.514) r2: (test=0.641) total time= 1.6min\n",
            "[18:16:27] WARNING: /workspace/src/objective/regression_obj.cu:152: reg:linear is now deprecated in favor of reg:squarederror.\n",
            "[CV 2/5] END gamma=0.01, learning_rate=0.01, max_depth=8, n_estimators=500; neg_root_mean_squared_error: (test=-379.095) r2: (test=0.660) total time= 1.7min\n",
            "[18:18:06] WARNING: /workspace/src/objective/regression_obj.cu:152: reg:linear is now deprecated in favor of reg:squarederror.\n",
            "[CV 3/5] END gamma=0.01, learning_rate=0.01, max_depth=8, n_estimators=500; neg_root_mean_squared_error: (test=-388.160) r2: (test=0.654) total time= 1.7min\n",
            "[18:19:45] WARNING: /workspace/src/objective/regression_obj.cu:152: reg:linear is now deprecated in favor of reg:squarederror.\n",
            "[CV 4/5] END gamma=0.01, learning_rate=0.01, max_depth=8, n_estimators=500; neg_root_mean_squared_error: (test=-386.592) r2: (test=0.658) total time= 1.6min\n",
            "[18:21:24] WARNING: /workspace/src/objective/regression_obj.cu:152: reg:linear is now deprecated in favor of reg:squarederror.\n",
            "[CV 5/5] END gamma=0.01, learning_rate=0.01, max_depth=8, n_estimators=500; neg_root_mean_squared_error: (test=-386.294) r2: (test=0.652) total time= 1.6min\n",
            "[18:23:01] WARNING: /workspace/src/objective/regression_obj.cu:152: reg:linear is now deprecated in favor of reg:squarederror.\n",
            "[CV 1/5] END gamma=0.01, learning_rate=0.1, max_depth=4, n_estimators=300; neg_root_mean_squared_error: (test=-352.673) r2: (test=0.701) total time=  27.3s\n",
            "[18:23:28] WARNING: /workspace/src/objective/regression_obj.cu:152: reg:linear is now deprecated in favor of reg:squarederror.\n",
            "[CV 2/5] END gamma=0.01, learning_rate=0.1, max_depth=4, n_estimators=300; neg_root_mean_squared_error: (test=-348.178) r2: (test=0.714) total time=  27.1s\n",
            "[18:23:55] WARNING: /workspace/src/objective/regression_obj.cu:152: reg:linear is now deprecated in favor of reg:squarederror.\n",
            "[CV 3/5] END gamma=0.01, learning_rate=0.1, max_depth=4, n_estimators=300; neg_root_mean_squared_error: (test=-357.710) r2: (test=0.706) total time=  27.3s\n",
            "[18:24:22] WARNING: /workspace/src/objective/regression_obj.cu:152: reg:linear is now deprecated in favor of reg:squarederror.\n",
            "[CV 4/5] END gamma=0.01, learning_rate=0.1, max_depth=4, n_estimators=300; neg_root_mean_squared_error: (test=-355.322) r2: (test=0.711) total time=  27.0s\n",
            "[18:24:49] WARNING: /workspace/src/objective/regression_obj.cu:152: reg:linear is now deprecated in favor of reg:squarederror.\n",
            "[CV 5/5] END gamma=0.01, learning_rate=0.1, max_depth=4, n_estimators=300; neg_root_mean_squared_error: (test=-357.721) r2: (test=0.702) total time=  27.0s\n",
            "[18:25:16] WARNING: /workspace/src/objective/regression_obj.cu:152: reg:linear is now deprecated in favor of reg:squarederror.\n",
            "[CV 1/5] END gamma=0.01, learning_rate=0.1, max_depth=4, n_estimators=400; neg_root_mean_squared_error: (test=-341.775) r2: (test=0.719) total time=  36.0s\n",
            "[18:25:52] WARNING: /workspace/src/objective/regression_obj.cu:152: reg:linear is now deprecated in favor of reg:squarederror.\n",
            "[CV 2/5] END gamma=0.01, learning_rate=0.1, max_depth=4, n_estimators=400; neg_root_mean_squared_error: (test=-337.548) r2: (test=0.731) total time=  35.9s\n",
            "[18:26:28] WARNING: /workspace/src/objective/regression_obj.cu:152: reg:linear is now deprecated in favor of reg:squarederror.\n",
            "[CV 3/5] END gamma=0.01, learning_rate=0.1, max_depth=4, n_estimators=400; neg_root_mean_squared_error: (test=-349.198) r2: (test=0.720) total time=  35.8s\n",
            "[18:27:04] WARNING: /workspace/src/objective/regression_obj.cu:152: reg:linear is now deprecated in favor of reg:squarederror.\n",
            "[CV 4/5] END gamma=0.01, learning_rate=0.1, max_depth=4, n_estimators=400; neg_root_mean_squared_error: (test=-344.245) r2: (test=0.729) total time=  35.9s\n",
            "[18:27:40] WARNING: /workspace/src/objective/regression_obj.cu:152: reg:linear is now deprecated in favor of reg:squarederror.\n",
            "[CV 5/5] END gamma=0.01, learning_rate=0.1, max_depth=4, n_estimators=400; neg_root_mean_squared_error: (test=-348.808) r2: (test=0.717) total time=  36.4s\n",
            "[18:28:16] WARNING: /workspace/src/objective/regression_obj.cu:152: reg:linear is now deprecated in favor of reg:squarederror.\n",
            "[CV 1/5] END gamma=0.01, learning_rate=0.1, max_depth=4, n_estimators=500; neg_root_mean_squared_error: (test=-337.395) r2: (test=0.726) total time=  45.6s\n",
            "[18:29:02] WARNING: /workspace/src/objective/regression_obj.cu:152: reg:linear is now deprecated in favor of reg:squarederror.\n",
            "[CV 2/5] END gamma=0.01, learning_rate=0.1, max_depth=4, n_estimators=500; neg_root_mean_squared_error: (test=-332.027) r2: (test=0.740) total time=  46.1s\n",
            "[18:29:48] WARNING: /workspace/src/objective/regression_obj.cu:152: reg:linear is now deprecated in favor of reg:squarederror.\n",
            "[CV 3/5] END gamma=0.01, learning_rate=0.1, max_depth=4, n_estimators=500; neg_root_mean_squared_error: (test=-343.396) r2: (test=0.729) total time=  45.0s\n",
            "[18:30:33] WARNING: /workspace/src/objective/regression_obj.cu:152: reg:linear is now deprecated in favor of reg:squarederror.\n",
            "[CV 4/5] END gamma=0.01, learning_rate=0.1, max_depth=4, n_estimators=500; neg_root_mean_squared_error: (test=-337.362) r2: (test=0.739) total time=  45.6s\n",
            "[18:31:19] WARNING: /workspace/src/objective/regression_obj.cu:152: reg:linear is now deprecated in favor of reg:squarederror.\n",
            "[CV 5/5] END gamma=0.01, learning_rate=0.1, max_depth=4, n_estimators=500; neg_root_mean_squared_error: (test=-343.050) r2: (test=0.726) total time=  45.5s\n",
            "[18:32:04] WARNING: /workspace/src/objective/regression_obj.cu:152: reg:linear is now deprecated in favor of reg:squarederror.\n",
            "[CV 1/5] END gamma=0.01, learning_rate=0.1, max_depth=6, n_estimators=300; neg_root_mean_squared_error: (test=-330.402) r2: (test=0.737) total time=  41.5s\n",
            "[18:32:46] WARNING: /workspace/src/objective/regression_obj.cu:152: reg:linear is now deprecated in favor of reg:squarederror.\n",
            "[CV 2/5] END gamma=0.01, learning_rate=0.1, max_depth=6, n_estimators=300; neg_root_mean_squared_error: (test=-324.200) r2: (test=0.752) total time=  41.3s\n",
            "[18:33:27] WARNING: /workspace/src/objective/regression_obj.cu:152: reg:linear is now deprecated in favor of reg:squarederror.\n",
            "[CV 3/5] END gamma=0.01, learning_rate=0.1, max_depth=6, n_estimators=300; neg_root_mean_squared_error: (test=-334.830) r2: (test=0.742) total time=  41.1s\n",
            "[18:34:08] WARNING: /workspace/src/objective/regression_obj.cu:152: reg:linear is now deprecated in favor of reg:squarederror.\n",
            "[CV 4/5] END gamma=0.01, learning_rate=0.1, max_depth=6, n_estimators=300; neg_root_mean_squared_error: (test=-331.097) r2: (test=0.749) total time=  41.2s\n",
            "[18:34:49] WARNING: /workspace/src/objective/regression_obj.cu:152: reg:linear is now deprecated in favor of reg:squarederror.\n",
            "[CV 5/5] END gamma=0.01, learning_rate=0.1, max_depth=6, n_estimators=300; neg_root_mean_squared_error: (test=-331.586) r2: (test=0.744) total time=  41.2s\n",
            "[18:35:30] WARNING: /workspace/src/objective/regression_obj.cu:152: reg:linear is now deprecated in favor of reg:squarederror.\n",
            "[CV 1/5] END gamma=0.01, learning_rate=0.1, max_depth=6, n_estimators=400; neg_root_mean_squared_error: (test=-324.349) r2: (test=0.747) total time=  55.0s\n",
            "[18:36:25] WARNING: /workspace/src/objective/regression_obj.cu:152: reg:linear is now deprecated in favor of reg:squarederror.\n",
            "[CV 2/5] END gamma=0.01, learning_rate=0.1, max_depth=6, n_estimators=400; neg_root_mean_squared_error: (test=-319.656) r2: (test=0.759) total time=  54.8s\n",
            "[18:37:20] WARNING: /workspace/src/objective/regression_obj.cu:152: reg:linear is now deprecated in favor of reg:squarederror.\n",
            "[CV 3/5] END gamma=0.01, learning_rate=0.1, max_depth=6, n_estimators=400; neg_root_mean_squared_error: (test=-330.341) r2: (test=0.749) total time=  54.4s\n",
            "[18:38:15] WARNING: /workspace/src/objective/regression_obj.cu:152: reg:linear is now deprecated in favor of reg:squarederror.\n",
            "[CV 4/5] END gamma=0.01, learning_rate=0.1, max_depth=6, n_estimators=400; neg_root_mean_squared_error: (test=-326.857) r2: (test=0.755) total time=  54.6s\n",
            "[18:39:09] WARNING: /workspace/src/objective/regression_obj.cu:152: reg:linear is now deprecated in favor of reg:squarederror.\n",
            "[CV 5/5] END gamma=0.01, learning_rate=0.1, max_depth=6, n_estimators=400; neg_root_mean_squared_error: (test=-326.751) r2: (test=0.751) total time=  54.4s\n",
            "[18:40:04] WARNING: /workspace/src/objective/regression_obj.cu:152: reg:linear is now deprecated in favor of reg:squarederror.\n",
            "[CV 1/5] END gamma=0.01, learning_rate=0.1, max_depth=6, n_estimators=500; neg_root_mean_squared_error: (test=-320.758) r2: (test=0.753) total time= 1.1min\n",
            "[18:41:12] WARNING: /workspace/src/objective/regression_obj.cu:152: reg:linear is now deprecated in favor of reg:squarederror.\n",
            "[CV 2/5] END gamma=0.01, learning_rate=0.1, max_depth=6, n_estimators=500; neg_root_mean_squared_error: (test=-317.333) r2: (test=0.762) total time= 1.1min\n",
            "[18:42:19] WARNING: /workspace/src/objective/regression_obj.cu:152: reg:linear is now deprecated in favor of reg:squarederror.\n",
            "[CV 3/5] END gamma=0.01, learning_rate=0.1, max_depth=6, n_estimators=500; neg_root_mean_squared_error: (test=-327.536) r2: (test=0.754) total time= 1.1min\n",
            "[18:43:27] WARNING: /workspace/src/objective/regression_obj.cu:152: reg:linear is now deprecated in favor of reg:squarederror.\n",
            "[CV 4/5] END gamma=0.01, learning_rate=0.1, max_depth=6, n_estimators=500; neg_root_mean_squared_error: (test=-323.808) r2: (test=0.760) total time= 1.1min\n",
            "[18:44:34] WARNING: /workspace/src/objective/regression_obj.cu:152: reg:linear is now deprecated in favor of reg:squarederror.\n",
            "[CV 5/5] END gamma=0.01, learning_rate=0.1, max_depth=6, n_estimators=500; neg_root_mean_squared_error: (test=-323.958) r2: (test=0.756) total time= 1.1min\n",
            "[18:45:42] WARNING: /workspace/src/objective/regression_obj.cu:152: reg:linear is now deprecated in favor of reg:squarederror.\n",
            "[CV 1/5] END gamma=0.01, learning_rate=0.1, max_depth=8, n_estimators=300; neg_root_mean_squared_error: (test=-320.380) r2: (test=0.753) total time=  57.0s\n",
            "[18:46:39] WARNING: /workspace/src/objective/regression_obj.cu:152: reg:linear is now deprecated in favor of reg:squarederror.\n",
            "[CV 2/5] END gamma=0.01, learning_rate=0.1, max_depth=8, n_estimators=300; neg_root_mean_squared_error: (test=-314.840) r2: (test=0.766) total time=  57.2s\n",
            "[18:47:36] WARNING: /workspace/src/objective/regression_obj.cu:152: reg:linear is now deprecated in favor of reg:squarederror.\n",
            "[CV 3/5] END gamma=0.01, learning_rate=0.1, max_depth=8, n_estimators=300; neg_root_mean_squared_error: (test=-325.198) r2: (test=0.757) total time=  56.8s\n",
            "[18:48:33] WARNING: /workspace/src/objective/regression_obj.cu:152: reg:linear is now deprecated in favor of reg:squarederror.\n",
            "[CV 4/5] END gamma=0.01, learning_rate=0.1, max_depth=8, n_estimators=300; neg_root_mean_squared_error: (test=-321.700) r2: (test=0.763) total time=  56.7s\n",
            "[18:49:29] WARNING: /workspace/src/objective/regression_obj.cu:152: reg:linear is now deprecated in favor of reg:squarederror.\n",
            "[CV 5/5] END gamma=0.01, learning_rate=0.1, max_depth=8, n_estimators=300; neg_root_mean_squared_error: (test=-325.156) r2: (test=0.754) total time=  57.0s\n",
            "[18:50:26] WARNING: /workspace/src/objective/regression_obj.cu:152: reg:linear is now deprecated in favor of reg:squarederror.\n",
            "[CV 1/5] END gamma=0.01, learning_rate=0.1, max_depth=8, n_estimators=400; neg_root_mean_squared_error: (test=-318.209) r2: (test=0.756) total time= 1.3min\n",
            "[18:51:42] WARNING: /workspace/src/objective/regression_obj.cu:152: reg:linear is now deprecated in favor of reg:squarederror.\n",
            "[CV 2/5] END gamma=0.01, learning_rate=0.1, max_depth=8, n_estimators=400; neg_root_mean_squared_error: (test=-313.070) r2: (test=0.768) total time= 1.3min\n",
            "[18:52:57] WARNING: /workspace/src/objective/regression_obj.cu:152: reg:linear is now deprecated in favor of reg:squarederror.\n",
            "[CV 3/5] END gamma=0.01, learning_rate=0.1, max_depth=8, n_estimators=400; neg_root_mean_squared_error: (test=-322.961) r2: (test=0.760) total time= 1.3min\n",
            "[18:54:12] WARNING: /workspace/src/objective/regression_obj.cu:152: reg:linear is now deprecated in favor of reg:squarederror.\n",
            "[CV 4/5] END gamma=0.01, learning_rate=0.1, max_depth=8, n_estimators=400; neg_root_mean_squared_error: (test=-319.697) r2: (test=0.766) total time= 1.2min\n",
            "[18:55:27] WARNING: /workspace/src/objective/regression_obj.cu:152: reg:linear is now deprecated in favor of reg:squarederror.\n",
            "[CV 5/5] END gamma=0.01, learning_rate=0.1, max_depth=8, n_estimators=400; neg_root_mean_squared_error: (test=-323.540) r2: (test=0.756) total time= 1.2min\n",
            "[18:56:42] WARNING: /workspace/src/objective/regression_obj.cu:152: reg:linear is now deprecated in favor of reg:squarederror.\n",
            "[CV 1/5] END gamma=0.01, learning_rate=0.1, max_depth=8, n_estimators=500; neg_root_mean_squared_error: (test=-318.030) r2: (test=0.757) total time= 1.6min\n",
            "[18:58:15] WARNING: /workspace/src/objective/regression_obj.cu:152: reg:linear is now deprecated in favor of reg:squarederror.\n",
            "[CV 2/5] END gamma=0.01, learning_rate=0.1, max_depth=8, n_estimators=500; neg_root_mean_squared_error: (test=-312.648) r2: (test=0.769) total time= 1.5min\n",
            "[18:59:48] WARNING: /workspace/src/objective/regression_obj.cu:152: reg:linear is now deprecated in favor of reg:squarederror.\n",
            "[CV 3/5] END gamma=0.01, learning_rate=0.1, max_depth=8, n_estimators=500; neg_root_mean_squared_error: (test=-322.413) r2: (test=0.761) total time= 1.5min\n",
            "[19:01:21] WARNING: /workspace/src/objective/regression_obj.cu:152: reg:linear is now deprecated in favor of reg:squarederror.\n",
            "[CV 4/5] END gamma=0.01, learning_rate=0.1, max_depth=8, n_estimators=500; neg_root_mean_squared_error: (test=-319.238) r2: (test=0.767) total time= 1.5min\n",
            "[19:02:53] WARNING: /workspace/src/objective/regression_obj.cu:152: reg:linear is now deprecated in favor of reg:squarederror.\n",
            "[CV 5/5] END gamma=0.01, learning_rate=0.1, max_depth=8, n_estimators=500; neg_root_mean_squared_error: (test=-322.960) r2: (test=0.757) total time= 1.6min\n",
            "[19:04:27] WARNING: /workspace/src/objective/regression_obj.cu:152: reg:linear is now deprecated in favor of reg:squarederror.\n",
            "[CV 1/5] END gamma=0.1, learning_rate=0.01, max_depth=4, n_estimators=300; neg_root_mean_squared_error: (test=-459.175) r2: (test=0.493) total time=  26.8s\n",
            "[19:04:53] WARNING: /workspace/src/objective/regression_obj.cu:152: reg:linear is now deprecated in favor of reg:squarederror.\n",
            "[CV 2/5] END gamma=0.1, learning_rate=0.01, max_depth=4, n_estimators=300; neg_root_mean_squared_error: (test=-455.757) r2: (test=0.509) total time=  26.9s\n",
            "[19:05:20] WARNING: /workspace/src/objective/regression_obj.cu:152: reg:linear is now deprecated in favor of reg:squarederror.\n",
            "[CV 3/5] END gamma=0.1, learning_rate=0.01, max_depth=4, n_estimators=300; neg_root_mean_squared_error: (test=-466.057) r2: (test=0.501) total time=  26.8s\n",
            "[19:05:47] WARNING: /workspace/src/objective/regression_obj.cu:152: reg:linear is now deprecated in favor of reg:squarederror.\n",
            "[CV 4/5] END gamma=0.1, learning_rate=0.01, max_depth=4, n_estimators=300; neg_root_mean_squared_error: (test=-466.615) r2: (test=0.501) total time=  27.0s\n",
            "[19:06:14] WARNING: /workspace/src/objective/regression_obj.cu:152: reg:linear is now deprecated in favor of reg:squarederror.\n",
            "[CV 5/5] END gamma=0.1, learning_rate=0.01, max_depth=4, n_estimators=300; neg_root_mean_squared_error: (test=-468.998) r2: (test=0.488) total time=  27.0s\n",
            "[19:06:41] WARNING: /workspace/src/objective/regression_obj.cu:152: reg:linear is now deprecated in favor of reg:squarederror.\n",
            "[CV 1/5] END gamma=0.1, learning_rate=0.01, max_depth=4, n_estimators=400; neg_root_mean_squared_error: (test=-445.707) r2: (test=0.522) total time=  35.8s\n",
            "[19:07:17] WARNING: /workspace/src/objective/regression_obj.cu:152: reg:linear is now deprecated in favor of reg:squarederror.\n",
            "[CV 2/5] END gamma=0.1, learning_rate=0.01, max_depth=4, n_estimators=400; neg_root_mean_squared_error: (test=-443.391) r2: (test=0.536) total time=  35.9s\n",
            "[19:07:53] WARNING: /workspace/src/objective/regression_obj.cu:152: reg:linear is now deprecated in favor of reg:squarederror.\n",
            "[CV 3/5] END gamma=0.1, learning_rate=0.01, max_depth=4, n_estimators=400; neg_root_mean_squared_error: (test=-451.030) r2: (test=0.533) total time=  35.6s\n",
            "[19:08:28] WARNING: /workspace/src/objective/regression_obj.cu:152: reg:linear is now deprecated in favor of reg:squarederror.\n",
            "[CV 4/5] END gamma=0.1, learning_rate=0.01, max_depth=4, n_estimators=400; neg_root_mean_squared_error: (test=-454.353) r2: (test=0.527) total time=  35.9s\n",
            "[19:09:04] WARNING: /workspace/src/objective/regression_obj.cu:152: reg:linear is now deprecated in favor of reg:squarederror.\n",
            "[CV 5/5] END gamma=0.1, learning_rate=0.01, max_depth=4, n_estimators=400; neg_root_mean_squared_error: (test=-454.020) r2: (test=0.520) total time=  35.5s\n",
            "[19:09:40] WARNING: /workspace/src/objective/regression_obj.cu:152: reg:linear is now deprecated in favor of reg:squarederror.\n",
            "[CV 1/5] END gamma=0.1, learning_rate=0.01, max_depth=4, n_estimators=500; neg_root_mean_squared_error: (test=-437.815) r2: (test=0.539) total time=  44.5s\n",
            "[19:10:24] WARNING: /workspace/src/objective/regression_obj.cu:152: reg:linear is now deprecated in favor of reg:squarederror.\n",
            "[CV 2/5] END gamma=0.1, learning_rate=0.01, max_depth=4, n_estimators=500; neg_root_mean_squared_error: (test=-434.695) r2: (test=0.554) total time=  44.5s\n",
            "[19:11:09] WARNING: /workspace/src/objective/regression_obj.cu:152: reg:linear is now deprecated in favor of reg:squarederror.\n",
            "[CV 3/5] END gamma=0.1, learning_rate=0.01, max_depth=4, n_estimators=500; neg_root_mean_squared_error: (test=-441.960) r2: (test=0.551) total time=  44.5s\n",
            "[19:11:53] WARNING: /workspace/src/objective/regression_obj.cu:152: reg:linear is now deprecated in favor of reg:squarederror.\n",
            "[CV 4/5] END gamma=0.1, learning_rate=0.01, max_depth=4, n_estimators=500; neg_root_mean_squared_error: (test=-443.879) r2: (test=0.549) total time=  44.3s\n",
            "[19:12:37] WARNING: /workspace/src/objective/regression_obj.cu:152: reg:linear is now deprecated in favor of reg:squarederror.\n",
            "[CV 5/5] END gamma=0.1, learning_rate=0.01, max_depth=4, n_estimators=500; neg_root_mean_squared_error: (test=-444.123) r2: (test=0.541) total time=  44.4s\n",
            "[19:13:22] WARNING: /workspace/src/objective/regression_obj.cu:152: reg:linear is now deprecated in favor of reg:squarederror.\n",
            "[CV 1/5] END gamma=0.1, learning_rate=0.01, max_depth=6, n_estimators=300; neg_root_mean_squared_error: (test=-432.265) r2: (test=0.551) total time=  40.7s\n",
            "[19:14:03] WARNING: /workspace/src/objective/regression_obj.cu:152: reg:linear is now deprecated in favor of reg:squarederror.\n",
            "[CV 2/5] END gamma=0.1, learning_rate=0.01, max_depth=6, n_estimators=300; neg_root_mean_squared_error: (test=-428.183) r2: (test=0.567) total time=  40.8s\n",
            "[19:14:43] WARNING: /workspace/src/objective/regression_obj.cu:152: reg:linear is now deprecated in favor of reg:squarederror.\n",
            "[CV 3/5] END gamma=0.1, learning_rate=0.01, max_depth=6, n_estimators=300; neg_root_mean_squared_error: (test=-433.455) r2: (test=0.568) total time=  41.1s\n",
            "[19:15:24] WARNING: /workspace/src/objective/regression_obj.cu:152: reg:linear is now deprecated in favor of reg:squarederror.\n",
            "[CV 4/5] END gamma=0.1, learning_rate=0.01, max_depth=6, n_estimators=300; neg_root_mean_squared_error: (test=-438.397) r2: (test=0.560) total time=  41.3s\n",
            "[19:16:06] WARNING: /workspace/src/objective/regression_obj.cu:152: reg:linear is now deprecated in favor of reg:squarederror.\n",
            "[CV 5/5] END gamma=0.1, learning_rate=0.01, max_depth=6, n_estimators=300; neg_root_mean_squared_error: (test=-438.467) r2: (test=0.552) total time=  41.1s\n",
            "[19:16:47] WARNING: /workspace/src/objective/regression_obj.cu:152: reg:linear is now deprecated in favor of reg:squarederror.\n",
            "[CV 1/5] END gamma=0.1, learning_rate=0.01, max_depth=6, n_estimators=400; neg_root_mean_squared_error: (test=-420.155) r2: (test=0.575) total time=  54.6s\n",
            "[19:17:41] WARNING: /workspace/src/objective/regression_obj.cu:152: reg:linear is now deprecated in favor of reg:squarederror.\n",
            "[CV 2/5] END gamma=0.1, learning_rate=0.01, max_depth=6, n_estimators=400; neg_root_mean_squared_error: (test=-417.585) r2: (test=0.588) total time=  54.7s\n",
            "[19:18:36] WARNING: /workspace/src/objective/regression_obj.cu:152: reg:linear is now deprecated in favor of reg:squarederror.\n",
            "[CV 3/5] END gamma=0.1, learning_rate=0.01, max_depth=6, n_estimators=400; neg_root_mean_squared_error: (test=-422.166) r2: (test=0.591) total time=  54.6s\n",
            "[19:19:31] WARNING: /workspace/src/objective/regression_obj.cu:152: reg:linear is now deprecated in favor of reg:squarederror.\n",
            "[CV 4/5] END gamma=0.1, learning_rate=0.01, max_depth=6, n_estimators=400; neg_root_mean_squared_error: (test=-427.443) r2: (test=0.581) total time=  54.8s\n",
            "[19:20:25] WARNING: /workspace/src/objective/regression_obj.cu:152: reg:linear is now deprecated in favor of reg:squarederror.\n",
            "[CV 5/5] END gamma=0.1, learning_rate=0.01, max_depth=6, n_estimators=400; neg_root_mean_squared_error: (test=-427.618) r2: (test=0.574) total time=  54.4s\n",
            "[19:21:20] WARNING: /workspace/src/objective/regression_obj.cu:152: reg:linear is now deprecated in favor of reg:squarederror.\n",
            "[CV 1/5] END gamma=0.1, learning_rate=0.01, max_depth=6, n_estimators=500; neg_root_mean_squared_error: (test=-409.041) r2: (test=0.598) total time= 1.1min\n",
            "[19:22:28] WARNING: /workspace/src/objective/regression_obj.cu:152: reg:linear is now deprecated in favor of reg:squarederror.\n",
            "[CV 2/5] END gamma=0.1, learning_rate=0.01, max_depth=6, n_estimators=500; neg_root_mean_squared_error: (test=-406.385) r2: (test=0.610) total time= 1.1min\n",
            "[19:23:37] WARNING: /workspace/src/objective/regression_obj.cu:152: reg:linear is now deprecated in favor of reg:squarederror.\n",
            "[CV 3/5] END gamma=0.1, learning_rate=0.01, max_depth=6, n_estimators=500; neg_root_mean_squared_error: (test=-411.108) r2: (test=0.612) total time= 1.1min\n",
            "[19:24:45] WARNING: /workspace/src/objective/regression_obj.cu:152: reg:linear is now deprecated in favor of reg:squarederror.\n",
            "[CV 4/5] END gamma=0.1, learning_rate=0.01, max_depth=6, n_estimators=500; neg_root_mean_squared_error: (test=-416.036) r2: (test=0.603) total time= 1.1min\n",
            "[19:25:54] WARNING: /workspace/src/objective/regression_obj.cu:152: reg:linear is now deprecated in favor of reg:squarederror.\n",
            "[CV 5/5] END gamma=0.1, learning_rate=0.01, max_depth=6, n_estimators=500; neg_root_mean_squared_error: (test=-415.498) r2: (test=0.598) total time= 1.1min\n",
            "[19:27:02] WARNING: /workspace/src/objective/regression_obj.cu:152: reg:linear is now deprecated in favor of reg:squarederror.\n",
            "[CV 1/5] END gamma=0.1, learning_rate=0.01, max_depth=8, n_estimators=300; neg_root_mean_squared_error: (test=-410.523) r2: (test=0.595) total time=  58.4s\n",
            "[19:28:00] WARNING: /workspace/src/objective/regression_obj.cu:152: reg:linear is now deprecated in favor of reg:squarederror.\n",
            "[CV 2/5] END gamma=0.1, learning_rate=0.01, max_depth=8, n_estimators=300; neg_root_mean_squared_error: (test=-402.836) r2: (test=0.617) total time=  58.8s\n",
            "[19:28:59] WARNING: /workspace/src/objective/regression_obj.cu:152: reg:linear is now deprecated in favor of reg:squarederror.\n",
            "[CV 3/5] END gamma=0.1, learning_rate=0.01, max_depth=8, n_estimators=300; neg_root_mean_squared_error: (test=-414.226) r2: (test=0.606) total time=  58.3s\n",
            "[19:29:57] WARNING: /workspace/src/objective/regression_obj.cu:152: reg:linear is now deprecated in favor of reg:squarederror.\n",
            "[CV 4/5] END gamma=0.1, learning_rate=0.01, max_depth=8, n_estimators=300; neg_root_mean_squared_error: (test=-415.645) r2: (test=0.604) total time=  59.0s\n",
            "[19:30:56] WARNING: /workspace/src/objective/regression_obj.cu:152: reg:linear is now deprecated in favor of reg:squarederror.\n",
            "[CV 5/5] END gamma=0.1, learning_rate=0.01, max_depth=8, n_estimators=300; neg_root_mean_squared_error: (test=-414.230) r2: (test=0.600) total time=  57.9s\n",
            "[19:31:54] WARNING: /workspace/src/objective/regression_obj.cu:152: reg:linear is now deprecated in favor of reg:squarederror.\n",
            "[CV 1/5] END gamma=0.1, learning_rate=0.01, max_depth=8, n_estimators=400; neg_root_mean_squared_error: (test=-396.094) r2: (test=0.623) total time= 1.5min\n",
            "[19:33:21] WARNING: /workspace/src/objective/regression_obj.cu:152: reg:linear is now deprecated in favor of reg:squarederror.\n",
            "[CV 2/5] END gamma=0.1, learning_rate=0.01, max_depth=8, n_estimators=400; neg_root_mean_squared_error: (test=-389.000) r2: (test=0.642) total time= 1.3min\n",
            "[19:34:40] WARNING: /workspace/src/objective/regression_obj.cu:152: reg:linear is now deprecated in favor of reg:squarederror.\n",
            "[CV 3/5] END gamma=0.1, learning_rate=0.01, max_depth=8, n_estimators=400; neg_root_mean_squared_error: (test=-399.257) r2: (test=0.634) total time= 1.3min\n",
            "[19:35:58] WARNING: /workspace/src/objective/regression_obj.cu:152: reg:linear is now deprecated in favor of reg:squarederror.\n",
            "[CV 4/5] END gamma=0.1, learning_rate=0.01, max_depth=8, n_estimators=400; neg_root_mean_squared_error: (test=-399.646) r2: (test=0.634) total time= 1.3min\n",
            "[19:37:16] WARNING: /workspace/src/objective/regression_obj.cu:152: reg:linear is now deprecated in favor of reg:squarederror.\n",
            "[CV 5/5] END gamma=0.1, learning_rate=0.01, max_depth=8, n_estimators=400; neg_root_mean_squared_error: (test=-398.992) r2: (test=0.629) total time= 1.3min\n",
            "[19:38:33] WARNING: /workspace/src/objective/regression_obj.cu:152: reg:linear is now deprecated in favor of reg:squarederror.\n",
            "[CV 1/5] END gamma=0.1, learning_rate=0.01, max_depth=8, n_estimators=500; neg_root_mean_squared_error: (test=-386.514) r2: (test=0.641) total time= 1.6min\n",
            "[19:40:10] WARNING: /workspace/src/objective/regression_obj.cu:152: reg:linear is now deprecated in favor of reg:squarederror.\n",
            "[CV 2/5] END gamma=0.1, learning_rate=0.01, max_depth=8, n_estimators=500; neg_root_mean_squared_error: (test=-379.095) r2: (test=0.660) total time= 1.6min\n",
            "[19:41:48] WARNING: /workspace/src/objective/regression_obj.cu:152: reg:linear is now deprecated in favor of reg:squarederror.\n",
            "[CV 3/5] END gamma=0.1, learning_rate=0.01, max_depth=8, n_estimators=500; neg_root_mean_squared_error: (test=-388.160) r2: (test=0.654) total time= 1.6min\n",
            "[19:43:26] WARNING: /workspace/src/objective/regression_obj.cu:152: reg:linear is now deprecated in favor of reg:squarederror.\n",
            "[CV 4/5] END gamma=0.1, learning_rate=0.01, max_depth=8, n_estimators=500; neg_root_mean_squared_error: (test=-386.592) r2: (test=0.658) total time= 1.6min\n",
            "[19:45:04] WARNING: /workspace/src/objective/regression_obj.cu:152: reg:linear is now deprecated in favor of reg:squarederror.\n",
            "[CV 5/5] END gamma=0.1, learning_rate=0.01, max_depth=8, n_estimators=500; neg_root_mean_squared_error: (test=-386.294) r2: (test=0.652) total time= 1.6min\n",
            "[19:46:42] WARNING: /workspace/src/objective/regression_obj.cu:152: reg:linear is now deprecated in favor of reg:squarederror.\n",
            "[CV 1/5] END gamma=0.1, learning_rate=0.1, max_depth=4, n_estimators=300; neg_root_mean_squared_error: (test=-352.673) r2: (test=0.701) total time=  27.3s\n",
            "[19:47:09] WARNING: /workspace/src/objective/regression_obj.cu:152: reg:linear is now deprecated in favor of reg:squarederror.\n",
            "[CV 2/5] END gamma=0.1, learning_rate=0.1, max_depth=4, n_estimators=300; neg_root_mean_squared_error: (test=-348.178) r2: (test=0.714) total time=  27.3s\n",
            "[19:47:36] WARNING: /workspace/src/objective/regression_obj.cu:152: reg:linear is now deprecated in favor of reg:squarederror.\n",
            "[CV 3/5] END gamma=0.1, learning_rate=0.1, max_depth=4, n_estimators=300; neg_root_mean_squared_error: (test=-357.710) r2: (test=0.706) total time=  27.4s\n",
            "[19:48:04] WARNING: /workspace/src/objective/regression_obj.cu:152: reg:linear is now deprecated in favor of reg:squarederror.\n",
            "[CV 4/5] END gamma=0.1, learning_rate=0.1, max_depth=4, n_estimators=300; neg_root_mean_squared_error: (test=-355.322) r2: (test=0.711) total time=  27.4s\n",
            "[19:48:31] WARNING: /workspace/src/objective/regression_obj.cu:152: reg:linear is now deprecated in favor of reg:squarederror.\n",
            "[CV 5/5] END gamma=0.1, learning_rate=0.1, max_depth=4, n_estimators=300; neg_root_mean_squared_error: (test=-357.721) r2: (test=0.702) total time=  27.3s\n",
            "[19:48:58] WARNING: /workspace/src/objective/regression_obj.cu:152: reg:linear is now deprecated in favor of reg:squarederror.\n",
            "[CV 1/5] END gamma=0.1, learning_rate=0.1, max_depth=4, n_estimators=400; neg_root_mean_squared_error: (test=-341.775) r2: (test=0.719) total time=  36.4s\n",
            "[19:49:35] WARNING: /workspace/src/objective/regression_obj.cu:152: reg:linear is now deprecated in favor of reg:squarederror.\n",
            "[CV 2/5] END gamma=0.1, learning_rate=0.1, max_depth=4, n_estimators=400; neg_root_mean_squared_error: (test=-337.548) r2: (test=0.731) total time=  36.4s\n",
            "[19:50:11] WARNING: /workspace/src/objective/regression_obj.cu:152: reg:linear is now deprecated in favor of reg:squarederror.\n",
            "[CV 3/5] END gamma=0.1, learning_rate=0.1, max_depth=4, n_estimators=400; neg_root_mean_squared_error: (test=-349.198) r2: (test=0.720) total time=  36.2s\n",
            "[19:50:48] WARNING: /workspace/src/objective/regression_obj.cu:152: reg:linear is now deprecated in favor of reg:squarederror.\n",
            "[CV 4/5] END gamma=0.1, learning_rate=0.1, max_depth=4, n_estimators=400; neg_root_mean_squared_error: (test=-344.245) r2: (test=0.729) total time=  36.1s\n",
            "[19:51:24] WARNING: /workspace/src/objective/regression_obj.cu:152: reg:linear is now deprecated in favor of reg:squarederror.\n",
            "[CV 5/5] END gamma=0.1, learning_rate=0.1, max_depth=4, n_estimators=400; neg_root_mean_squared_error: (test=-348.808) r2: (test=0.717) total time=  36.2s\n",
            "[19:52:00] WARNING: /workspace/src/objective/regression_obj.cu:152: reg:linear is now deprecated in favor of reg:squarederror.\n",
            "[CV 1/5] END gamma=0.1, learning_rate=0.1, max_depth=4, n_estimators=500; neg_root_mean_squared_error: (test=-337.395) r2: (test=0.726) total time=  45.0s\n",
            "[19:52:45] WARNING: /workspace/src/objective/regression_obj.cu:152: reg:linear is now deprecated in favor of reg:squarederror.\n",
            "[CV 2/5] END gamma=0.1, learning_rate=0.1, max_depth=4, n_estimators=500; neg_root_mean_squared_error: (test=-332.027) r2: (test=0.740) total time=  45.3s\n",
            "[19:53:30] WARNING: /workspace/src/objective/regression_obj.cu:152: reg:linear is now deprecated in favor of reg:squarederror.\n",
            "[CV 3/5] END gamma=0.1, learning_rate=0.1, max_depth=4, n_estimators=500; neg_root_mean_squared_error: (test=-343.396) r2: (test=0.729) total time=  45.4s\n",
            "[19:54:15] WARNING: /workspace/src/objective/regression_obj.cu:152: reg:linear is now deprecated in favor of reg:squarederror.\n",
            "[CV 4/5] END gamma=0.1, learning_rate=0.1, max_depth=4, n_estimators=500; neg_root_mean_squared_error: (test=-337.362) r2: (test=0.739) total time=  45.1s\n",
            "[19:55:01] WARNING: /workspace/src/objective/regression_obj.cu:152: reg:linear is now deprecated in favor of reg:squarederror.\n",
            "[CV 5/5] END gamma=0.1, learning_rate=0.1, max_depth=4, n_estimators=500; neg_root_mean_squared_error: (test=-343.050) r2: (test=0.726) total time=  45.3s\n",
            "[19:55:46] WARNING: /workspace/src/objective/regression_obj.cu:152: reg:linear is now deprecated in favor of reg:squarederror.\n",
            "[CV 1/5] END gamma=0.1, learning_rate=0.1, max_depth=6, n_estimators=300; neg_root_mean_squared_error: (test=-330.402) r2: (test=0.737) total time=  41.1s\n",
            "[19:56:27] WARNING: /workspace/src/objective/regression_obj.cu:152: reg:linear is now deprecated in favor of reg:squarederror.\n",
            "[CV 2/5] END gamma=0.1, learning_rate=0.1, max_depth=6, n_estimators=300; neg_root_mean_squared_error: (test=-324.200) r2: (test=0.752) total time=  41.2s\n",
            "[19:57:08] WARNING: /workspace/src/objective/regression_obj.cu:152: reg:linear is now deprecated in favor of reg:squarederror.\n",
            "[CV 3/5] END gamma=0.1, learning_rate=0.1, max_depth=6, n_estimators=300; neg_root_mean_squared_error: (test=-334.830) r2: (test=0.742) total time=  42.1s\n",
            "[19:57:50] WARNING: /workspace/src/objective/regression_obj.cu:152: reg:linear is now deprecated in favor of reg:squarederror.\n",
            "[CV 4/5] END gamma=0.1, learning_rate=0.1, max_depth=6, n_estimators=300; neg_root_mean_squared_error: (test=-331.097) r2: (test=0.749) total time=  42.5s\n",
            "[19:58:33] WARNING: /workspace/src/objective/regression_obj.cu:152: reg:linear is now deprecated in favor of reg:squarederror.\n",
            "[CV 5/5] END gamma=0.1, learning_rate=0.1, max_depth=6, n_estimators=300; neg_root_mean_squared_error: (test=-331.586) r2: (test=0.744) total time=  42.0s\n",
            "[19:59:15] WARNING: /workspace/src/objective/regression_obj.cu:152: reg:linear is now deprecated in favor of reg:squarederror.\n",
            "[CV 1/5] END gamma=0.1, learning_rate=0.1, max_depth=6, n_estimators=400; neg_root_mean_squared_error: (test=-324.349) r2: (test=0.747) total time=  54.8s\n",
            "[20:00:10] WARNING: /workspace/src/objective/regression_obj.cu:152: reg:linear is now deprecated in favor of reg:squarederror.\n",
            "[CV 2/5] END gamma=0.1, learning_rate=0.1, max_depth=6, n_estimators=400; neg_root_mean_squared_error: (test=-319.656) r2: (test=0.759) total time=  54.3s\n",
            "[20:01:04] WARNING: /workspace/src/objective/regression_obj.cu:152: reg:linear is now deprecated in favor of reg:squarederror.\n",
            "[CV 3/5] END gamma=0.1, learning_rate=0.1, max_depth=6, n_estimators=400; neg_root_mean_squared_error: (test=-330.341) r2: (test=0.749) total time=  54.4s\n",
            "[20:01:58] WARNING: /workspace/src/objective/regression_obj.cu:152: reg:linear is now deprecated in favor of reg:squarederror.\n",
            "[CV 4/5] END gamma=0.1, learning_rate=0.1, max_depth=6, n_estimators=400; neg_root_mean_squared_error: (test=-326.857) r2: (test=0.755) total time=  54.8s\n",
            "[20:02:53] WARNING: /workspace/src/objective/regression_obj.cu:152: reg:linear is now deprecated in favor of reg:squarederror.\n",
            "[CV 5/5] END gamma=0.1, learning_rate=0.1, max_depth=6, n_estimators=400; neg_root_mean_squared_error: (test=-326.751) r2: (test=0.751) total time=  54.9s\n",
            "[20:03:48] WARNING: /workspace/src/objective/regression_obj.cu:152: reg:linear is now deprecated in favor of reg:squarederror.\n",
            "[CV 1/5] END gamma=0.1, learning_rate=0.1, max_depth=6, n_estimators=500; neg_root_mean_squared_error: (test=-320.758) r2: (test=0.753) total time= 1.1min\n",
            "[20:04:57] WARNING: /workspace/src/objective/regression_obj.cu:152: reg:linear is now deprecated in favor of reg:squarederror.\n",
            "[CV 2/5] END gamma=0.1, learning_rate=0.1, max_depth=6, n_estimators=500; neg_root_mean_squared_error: (test=-317.333) r2: (test=0.762) total time= 1.1min\n",
            "[20:06:05] WARNING: /workspace/src/objective/regression_obj.cu:152: reg:linear is now deprecated in favor of reg:squarederror.\n",
            "[CV 3/5] END gamma=0.1, learning_rate=0.1, max_depth=6, n_estimators=500; neg_root_mean_squared_error: (test=-327.536) r2: (test=0.754) total time= 1.1min\n",
            "[20:07:14] WARNING: /workspace/src/objective/regression_obj.cu:152: reg:linear is now deprecated in favor of reg:squarederror.\n",
            "[CV 4/5] END gamma=0.1, learning_rate=0.1, max_depth=6, n_estimators=500; neg_root_mean_squared_error: (test=-323.808) r2: (test=0.760) total time= 1.1min\n",
            "[20:08:23] WARNING: /workspace/src/objective/regression_obj.cu:152: reg:linear is now deprecated in favor of reg:squarederror.\n",
            "[CV 5/5] END gamma=0.1, learning_rate=0.1, max_depth=6, n_estimators=500; neg_root_mean_squared_error: (test=-323.958) r2: (test=0.756) total time= 1.2min\n",
            "[20:09:32] WARNING: /workspace/src/objective/regression_obj.cu:152: reg:linear is now deprecated in favor of reg:squarederror.\n",
            "[CV 1/5] END gamma=0.1, learning_rate=0.1, max_depth=8, n_estimators=300; neg_root_mean_squared_error: (test=-320.380) r2: (test=0.753) total time=  58.1s\n",
            "[20:10:30] WARNING: /workspace/src/objective/regression_obj.cu:152: reg:linear is now deprecated in favor of reg:squarederror.\n",
            "[CV 2/5] END gamma=0.1, learning_rate=0.1, max_depth=8, n_estimators=300; neg_root_mean_squared_error: (test=-314.840) r2: (test=0.766) total time=  58.4s\n",
            "[20:11:28] WARNING: /workspace/src/objective/regression_obj.cu:152: reg:linear is now deprecated in favor of reg:squarederror.\n",
            "[CV 3/5] END gamma=0.1, learning_rate=0.1, max_depth=8, n_estimators=300; neg_root_mean_squared_error: (test=-325.198) r2: (test=0.757) total time=  57.0s\n",
            "[20:12:25] WARNING: /workspace/src/objective/regression_obj.cu:152: reg:linear is now deprecated in favor of reg:squarederror.\n",
            "[CV 4/5] END gamma=0.1, learning_rate=0.1, max_depth=8, n_estimators=300; neg_root_mean_squared_error: (test=-321.700) r2: (test=0.763) total time=  56.9s\n",
            "[20:13:22] WARNING: /workspace/src/objective/regression_obj.cu:152: reg:linear is now deprecated in favor of reg:squarederror.\n",
            "[CV 5/5] END gamma=0.1, learning_rate=0.1, max_depth=8, n_estimators=300; neg_root_mean_squared_error: (test=-325.156) r2: (test=0.754) total time=  57.0s\n",
            "[20:14:19] WARNING: /workspace/src/objective/regression_obj.cu:152: reg:linear is now deprecated in favor of reg:squarederror.\n",
            "[CV 1/5] END gamma=0.1, learning_rate=0.1, max_depth=8, n_estimators=400; neg_root_mean_squared_error: (test=-318.209) r2: (test=0.756) total time= 1.3min\n",
            "[20:15:36] WARNING: /workspace/src/objective/regression_obj.cu:152: reg:linear is now deprecated in favor of reg:squarederror.\n",
            "[CV 2/5] END gamma=0.1, learning_rate=0.1, max_depth=8, n_estimators=400; neg_root_mean_squared_error: (test=-313.070) r2: (test=0.768) total time= 1.3min\n",
            "[20:16:52] WARNING: /workspace/src/objective/regression_obj.cu:152: reg:linear is now deprecated in favor of reg:squarederror.\n",
            "[CV 3/5] END gamma=0.1, learning_rate=0.1, max_depth=8, n_estimators=400; neg_root_mean_squared_error: (test=-322.961) r2: (test=0.760) total time= 1.3min\n",
            "[20:18:07] WARNING: /workspace/src/objective/regression_obj.cu:152: reg:linear is now deprecated in favor of reg:squarederror.\n",
            "[CV 4/5] END gamma=0.1, learning_rate=0.1, max_depth=8, n_estimators=400; neg_root_mean_squared_error: (test=-319.697) r2: (test=0.766) total time= 1.3min\n",
            "[20:19:23] WARNING: /workspace/src/objective/regression_obj.cu:152: reg:linear is now deprecated in favor of reg:squarederror.\n",
            "[CV 5/5] END gamma=0.1, learning_rate=0.1, max_depth=8, n_estimators=400; neg_root_mean_squared_error: (test=-323.540) r2: (test=0.756) total time= 1.3min\n",
            "[20:20:38] WARNING: /workspace/src/objective/regression_obj.cu:152: reg:linear is now deprecated in favor of reg:squarederror.\n",
            "[CV 1/5] END gamma=0.1, learning_rate=0.1, max_depth=8, n_estimators=500; neg_root_mean_squared_error: (test=-318.030) r2: (test=0.757) total time= 1.6min\n",
            "[20:22:12] WARNING: /workspace/src/objective/regression_obj.cu:152: reg:linear is now deprecated in favor of reg:squarederror.\n",
            "[CV 2/5] END gamma=0.1, learning_rate=0.1, max_depth=8, n_estimators=500; neg_root_mean_squared_error: (test=-312.648) r2: (test=0.769) total time= 1.6min\n",
            "[20:23:46] WARNING: /workspace/src/objective/regression_obj.cu:152: reg:linear is now deprecated in favor of reg:squarederror.\n",
            "[CV 3/5] END gamma=0.1, learning_rate=0.1, max_depth=8, n_estimators=500; neg_root_mean_squared_error: (test=-322.413) r2: (test=0.761) total time= 1.6min\n",
            "[20:25:19] WARNING: /workspace/src/objective/regression_obj.cu:152: reg:linear is now deprecated in favor of reg:squarederror.\n",
            "[CV 4/5] END gamma=0.1, learning_rate=0.1, max_depth=8, n_estimators=500; neg_root_mean_squared_error: (test=-319.238) r2: (test=0.767) total time= 1.6min\n",
            "[20:26:53] WARNING: /workspace/src/objective/regression_obj.cu:152: reg:linear is now deprecated in favor of reg:squarederror.\n",
            "[CV 5/5] END gamma=0.1, learning_rate=0.1, max_depth=8, n_estimators=500; neg_root_mean_squared_error: (test=-322.960) r2: (test=0.757) total time= 1.6min\n",
            "[20:28:26] WARNING: /workspace/src/objective/regression_obj.cu:152: reg:linear is now deprecated in favor of reg:squarederror.\n"
          ]
        },
        {
          "output_type": "execute_result",
          "data": {
            "text/plain": [
              "GridSearchCV(cv=5, estimator=XGBRegressor(random_state=2),\n",
              "             param_grid={'gamma': [0.01, 0.1], 'learning_rate': [0.01, 0.1],\n",
              "                         'max_depth': [4, 6, 8],\n",
              "                         'n_estimators': [300, 400, 500]},\n",
              "             refit='r2', scoring=['r2', 'neg_root_mean_squared_error'],\n",
              "             verbose=4)"
            ]
          },
          "metadata": {},
          "execution_count": 20
        }
      ],
      "source": [
        "#XGBoost Run 5-fold cross validation.\n",
        "GS = GridSearchCV(estimator = xgb,\n",
        "                  param_grid = search_space,\n",
        "                  scoring = [\"r2\", \"neg_root_mean_squared_error\"],\n",
        "                  refit = \"r2\",\n",
        "                  cv = 5,\n",
        "                  verbose = 4)\n",
        "GS.fit(xtrain, ytrain)"
      ]
    },
    {
      "cell_type": "code",
      "execution_count": null,
      "metadata": {
        "colab": {
          "base_uri": "https://localhost:8080/"
        },
        "id": "czOWErvZN3w3",
        "outputId": "0f63719d-26f5-40d6-ddcc-dbfa7064302d"
      },
      "outputs": [
        {
          "output_type": "execute_result",
          "data": {
            "text/plain": [
              "0.7769506588314067"
            ]
          },
          "metadata": {},
          "execution_count": 41
        }
      ],
      "source": [
        "#Run in-sample test on the best model and calculate R-squared.\n",
        "GS_XGB=GS.best_estimator_\n",
        "GS_XGB.score(xtest, ytest)"
      ]
    },
    {
      "cell_type": "code",
      "source": [
        "print(GS_XGB)"
      ],
      "metadata": {
        "colab": {
          "base_uri": "https://localhost:8080/"
        },
        "id": "O42PWoC4keL6",
        "outputId": "9f7d8a5a-800c-4042-dc37-5566adde9f6d"
      },
      "execution_count": null,
      "outputs": [
        {
          "output_type": "stream",
          "name": "stdout",
          "text": [
            "XGBRegressor(gamma=0.1, max_depth=8, n_estimators=500, random_state=2)\n"
          ]
        }
      ]
    },
    {
      "cell_type": "markdown",
      "source": [
        "## Predict on test sample for Kaggle submission"
      ],
      "metadata": {
        "id": "8Yb67pHudrUw"
      }
    },
    {
      "cell_type": "code",
      "execution_count": null,
      "metadata": {
        "id": "1gexDJO8T08d"
      },
      "outputs": [],
      "source": [
        "#Data transformation\n",
        "td = pd.read_csv(\"/content/drive/Shareddrives/Big Data Final/NYC Taxi Data/test.csv\")\n",
        "\n",
        "test_data=td.copy()\n",
        "\n",
        "test_data['pickup_datetime']=pd.to_datetime(test_data['pickup_datetime'])\n",
        "\n",
        "weekday_converter=lambda x: x.weekday()\n",
        "hour_converter=lambda x: x.hour\n",
        "month_converter=lambda x: x.month\n",
        "\n",
        "test_data['pickup_month']=test_data['pickup_datetime'].apply(month_converter)\n",
        "test_data['pickup_weekday']=test_data['pickup_datetime'].apply(weekday_converter)\n",
        "test_data['pickup_hour']=test_data['pickup_datetime'].apply(hour_converter)\n",
        "\n",
        "test_data=test_data.drop(columns=['id','pickup_datetime'])\n",
        "\n",
        "cvar_list=['vendor_id','store_and_fwd_flag','pickup_weekday', 'pickup_hour', 'pickup_month']\n",
        "nvar_list=['passenger_count','pickup_longitude','pickup_latitude','dropoff_longitude','dropoff_latitude']\n",
        "\n",
        "test_data[cvar_list] = test_data[cvar_list].astype('category')\n",
        "test_data[nvar_list] = test_data[nvar_list].astype('float64')\n",
        "\n",
        "test_data = pd.get_dummies(test_data, prefix_sep='_')\n",
        "\n",
        "# Remove the redundant dummies (Step 2 of dummy coding)\n",
        "# Placeholder variable: rdummies\n",
        "rdummies = ['vendor_id_2', 'store_and_fwd_flag_N', 'pickup_weekday_4', 'pickup_hour_18', 'pickup_month_1']\n",
        "test_data = test_data.drop(columns=rdummies)\n",
        "\n"
      ]
    },
    {
      "cell_type": "code",
      "execution_count": null,
      "metadata": {
        "id": "eWN3idAttSu3"
      },
      "outputs": [],
      "source": [
        "predicted = GS_XGB.predict(test_data)"
      ]
    },
    {
      "cell_type": "code",
      "source": [
        "predicted = xgb_full_fit.predict(test_data)"
      ],
      "metadata": {
        "id": "lp6vJXxm9P9I"
      },
      "execution_count": null,
      "outputs": []
    },
    {
      "cell_type": "code",
      "execution_count": null,
      "metadata": {
        "id": "MGpeZukmtSsm",
        "colab": {
          "base_uri": "https://localhost:8080/"
        },
        "outputId": "8adee687-fb88-49a3-ecdb-be1a90fb7cfe"
      },
      "outputs": [
        {
          "output_type": "execute_result",
          "data": {
            "text/plain": [
              "array([ 820.7733 ,  594.09106,  397.80933, ..., 1456.2723 , 1685.7429 ,\n",
              "       1178.881  ], dtype=float32)"
            ]
          },
          "metadata": {},
          "execution_count": 28
        }
      ],
      "source": [
        "predicted"
      ]
    },
    {
      "cell_type": "code",
      "execution_count": null,
      "metadata": {
        "id": "wImS2ZOUtSKV"
      },
      "outputs": [],
      "source": [
        "td['trip_duration']=predicted"
      ]
    },
    {
      "cell_type": "code",
      "execution_count": null,
      "metadata": {
        "id": "PfpPq0wItSH7",
        "colab": {
          "base_uri": "https://localhost:8080/",
          "height": 661
        },
        "outputId": "cb1f0011-1188-4906-a959-f4e0afd4c189"
      },
      "outputs": [
        {
          "output_type": "execute_result",
          "data": {
            "text/plain": [
              "               id  vendor_id      pickup_datetime  passenger_count  \\\n",
              "0       id3004672          1  2016-06-30 23:59:58                1   \n",
              "1       id3505355          1  2016-06-30 23:59:53                1   \n",
              "2       id1217141          1  2016-06-30 23:59:47                1   \n",
              "3       id2150126          2  2016-06-30 23:59:41                1   \n",
              "4       id1598245          1  2016-06-30 23:59:33                1   \n",
              "...           ...        ...                  ...              ...   \n",
              "625129  id3008929          1  2016-01-01 00:02:52                1   \n",
              "625130  id3700764          1  2016-01-01 00:01:52                1   \n",
              "625131  id2568735          1  2016-01-01 00:01:24                2   \n",
              "625132  id1384355          1  2016-01-01 00:00:28                1   \n",
              "625133  id0621643          2  2016-01-01 00:00:22                2   \n",
              "\n",
              "        pickup_longitude  pickup_latitude  dropoff_longitude  \\\n",
              "0             -73.988129        40.732029         -73.990173   \n",
              "1             -73.964203        40.679993         -73.959808   \n",
              "2             -73.997437        40.737583         -73.986160   \n",
              "3             -73.956070        40.771900         -73.986427   \n",
              "4             -73.970215        40.761475         -73.961510   \n",
              "...                  ...              ...                ...   \n",
              "625129        -74.003464        40.725105         -74.001251   \n",
              "625130        -74.006363        40.743782         -73.953407   \n",
              "625131        -73.972267        40.759865         -73.876602   \n",
              "625132        -73.976501        40.733562         -73.854263   \n",
              "625133        -73.981850        40.716881         -73.969330   \n",
              "\n",
              "        dropoff_latitude store_and_fwd_flag  trip_duration  \n",
              "0              40.756680                  N     820.773315  \n",
              "1              40.655403                  N     594.091064  \n",
              "2              40.729523                  N     397.809326  \n",
              "3              40.730469                  N     992.547363  \n",
              "4              40.755890                  N     336.543335  \n",
              "...                  ...                ...            ...  \n",
              "625129         40.733643                  N     254.828262  \n",
              "625130         40.782467                  N    1273.664795  \n",
              "625131         40.748665                  N    1456.272339  \n",
              "625132         40.891788                  N    1685.742920  \n",
              "625133         40.769379                  N    1178.880981  \n",
              "\n",
              "[625134 rows x 10 columns]"
            ],
            "text/html": [
              "\n",
              "  <div id=\"df-aed705a2-ef5f-40ec-b6c2-bca4ef9612e3\">\n",
              "    <div class=\"colab-df-container\">\n",
              "      <div>\n",
              "<style scoped>\n",
              "    .dataframe tbody tr th:only-of-type {\n",
              "        vertical-align: middle;\n",
              "    }\n",
              "\n",
              "    .dataframe tbody tr th {\n",
              "        vertical-align: top;\n",
              "    }\n",
              "\n",
              "    .dataframe thead th {\n",
              "        text-align: right;\n",
              "    }\n",
              "</style>\n",
              "<table border=\"1\" class=\"dataframe\">\n",
              "  <thead>\n",
              "    <tr style=\"text-align: right;\">\n",
              "      <th></th>\n",
              "      <th>id</th>\n",
              "      <th>vendor_id</th>\n",
              "      <th>pickup_datetime</th>\n",
              "      <th>passenger_count</th>\n",
              "      <th>pickup_longitude</th>\n",
              "      <th>pickup_latitude</th>\n",
              "      <th>dropoff_longitude</th>\n",
              "      <th>dropoff_latitude</th>\n",
              "      <th>store_and_fwd_flag</th>\n",
              "      <th>trip_duration</th>\n",
              "    </tr>\n",
              "  </thead>\n",
              "  <tbody>\n",
              "    <tr>\n",
              "      <th>0</th>\n",
              "      <td>id3004672</td>\n",
              "      <td>1</td>\n",
              "      <td>2016-06-30 23:59:58</td>\n",
              "      <td>1</td>\n",
              "      <td>-73.988129</td>\n",
              "      <td>40.732029</td>\n",
              "      <td>-73.990173</td>\n",
              "      <td>40.756680</td>\n",
              "      <td>N</td>\n",
              "      <td>820.773315</td>\n",
              "    </tr>\n",
              "    <tr>\n",
              "      <th>1</th>\n",
              "      <td>id3505355</td>\n",
              "      <td>1</td>\n",
              "      <td>2016-06-30 23:59:53</td>\n",
              "      <td>1</td>\n",
              "      <td>-73.964203</td>\n",
              "      <td>40.679993</td>\n",
              "      <td>-73.959808</td>\n",
              "      <td>40.655403</td>\n",
              "      <td>N</td>\n",
              "      <td>594.091064</td>\n",
              "    </tr>\n",
              "    <tr>\n",
              "      <th>2</th>\n",
              "      <td>id1217141</td>\n",
              "      <td>1</td>\n",
              "      <td>2016-06-30 23:59:47</td>\n",
              "      <td>1</td>\n",
              "      <td>-73.997437</td>\n",
              "      <td>40.737583</td>\n",
              "      <td>-73.986160</td>\n",
              "      <td>40.729523</td>\n",
              "      <td>N</td>\n",
              "      <td>397.809326</td>\n",
              "    </tr>\n",
              "    <tr>\n",
              "      <th>3</th>\n",
              "      <td>id2150126</td>\n",
              "      <td>2</td>\n",
              "      <td>2016-06-30 23:59:41</td>\n",
              "      <td>1</td>\n",
              "      <td>-73.956070</td>\n",
              "      <td>40.771900</td>\n",
              "      <td>-73.986427</td>\n",
              "      <td>40.730469</td>\n",
              "      <td>N</td>\n",
              "      <td>992.547363</td>\n",
              "    </tr>\n",
              "    <tr>\n",
              "      <th>4</th>\n",
              "      <td>id1598245</td>\n",
              "      <td>1</td>\n",
              "      <td>2016-06-30 23:59:33</td>\n",
              "      <td>1</td>\n",
              "      <td>-73.970215</td>\n",
              "      <td>40.761475</td>\n",
              "      <td>-73.961510</td>\n",
              "      <td>40.755890</td>\n",
              "      <td>N</td>\n",
              "      <td>336.543335</td>\n",
              "    </tr>\n",
              "    <tr>\n",
              "      <th>...</th>\n",
              "      <td>...</td>\n",
              "      <td>...</td>\n",
              "      <td>...</td>\n",
              "      <td>...</td>\n",
              "      <td>...</td>\n",
              "      <td>...</td>\n",
              "      <td>...</td>\n",
              "      <td>...</td>\n",
              "      <td>...</td>\n",
              "      <td>...</td>\n",
              "    </tr>\n",
              "    <tr>\n",
              "      <th>625129</th>\n",
              "      <td>id3008929</td>\n",
              "      <td>1</td>\n",
              "      <td>2016-01-01 00:02:52</td>\n",
              "      <td>1</td>\n",
              "      <td>-74.003464</td>\n",
              "      <td>40.725105</td>\n",
              "      <td>-74.001251</td>\n",
              "      <td>40.733643</td>\n",
              "      <td>N</td>\n",
              "      <td>254.828262</td>\n",
              "    </tr>\n",
              "    <tr>\n",
              "      <th>625130</th>\n",
              "      <td>id3700764</td>\n",
              "      <td>1</td>\n",
              "      <td>2016-01-01 00:01:52</td>\n",
              "      <td>1</td>\n",
              "      <td>-74.006363</td>\n",
              "      <td>40.743782</td>\n",
              "      <td>-73.953407</td>\n",
              "      <td>40.782467</td>\n",
              "      <td>N</td>\n",
              "      <td>1273.664795</td>\n",
              "    </tr>\n",
              "    <tr>\n",
              "      <th>625131</th>\n",
              "      <td>id2568735</td>\n",
              "      <td>1</td>\n",
              "      <td>2016-01-01 00:01:24</td>\n",
              "      <td>2</td>\n",
              "      <td>-73.972267</td>\n",
              "      <td>40.759865</td>\n",
              "      <td>-73.876602</td>\n",
              "      <td>40.748665</td>\n",
              "      <td>N</td>\n",
              "      <td>1456.272339</td>\n",
              "    </tr>\n",
              "    <tr>\n",
              "      <th>625132</th>\n",
              "      <td>id1384355</td>\n",
              "      <td>1</td>\n",
              "      <td>2016-01-01 00:00:28</td>\n",
              "      <td>1</td>\n",
              "      <td>-73.976501</td>\n",
              "      <td>40.733562</td>\n",
              "      <td>-73.854263</td>\n",
              "      <td>40.891788</td>\n",
              "      <td>N</td>\n",
              "      <td>1685.742920</td>\n",
              "    </tr>\n",
              "    <tr>\n",
              "      <th>625133</th>\n",
              "      <td>id0621643</td>\n",
              "      <td>2</td>\n",
              "      <td>2016-01-01 00:00:22</td>\n",
              "      <td>2</td>\n",
              "      <td>-73.981850</td>\n",
              "      <td>40.716881</td>\n",
              "      <td>-73.969330</td>\n",
              "      <td>40.769379</td>\n",
              "      <td>N</td>\n",
              "      <td>1178.880981</td>\n",
              "    </tr>\n",
              "  </tbody>\n",
              "</table>\n",
              "<p>625134 rows × 10 columns</p>\n",
              "</div>\n",
              "      <button class=\"colab-df-convert\" onclick=\"convertToInteractive('df-aed705a2-ef5f-40ec-b6c2-bca4ef9612e3')\"\n",
              "              title=\"Convert this dataframe to an interactive table.\"\n",
              "              style=\"display:none;\">\n",
              "        \n",
              "  <svg xmlns=\"http://www.w3.org/2000/svg\" height=\"24px\"viewBox=\"0 0 24 24\"\n",
              "       width=\"24px\">\n",
              "    <path d=\"M0 0h24v24H0V0z\" fill=\"none\"/>\n",
              "    <path d=\"M18.56 5.44l.94 2.06.94-2.06 2.06-.94-2.06-.94-.94-2.06-.94 2.06-2.06.94zm-11 1L8.5 8.5l.94-2.06 2.06-.94-2.06-.94L8.5 2.5l-.94 2.06-2.06.94zm10 10l.94 2.06.94-2.06 2.06-.94-2.06-.94-.94-2.06-.94 2.06-2.06.94z\"/><path d=\"M17.41 7.96l-1.37-1.37c-.4-.4-.92-.59-1.43-.59-.52 0-1.04.2-1.43.59L10.3 9.45l-7.72 7.72c-.78.78-.78 2.05 0 2.83L4 21.41c.39.39.9.59 1.41.59.51 0 1.02-.2 1.41-.59l7.78-7.78 2.81-2.81c.8-.78.8-2.07 0-2.86zM5.41 20L4 18.59l7.72-7.72 1.47 1.35L5.41 20z\"/>\n",
              "  </svg>\n",
              "      </button>\n",
              "      \n",
              "  <style>\n",
              "    .colab-df-container {\n",
              "      display:flex;\n",
              "      flex-wrap:wrap;\n",
              "      gap: 12px;\n",
              "    }\n",
              "\n",
              "    .colab-df-convert {\n",
              "      background-color: #E8F0FE;\n",
              "      border: none;\n",
              "      border-radius: 50%;\n",
              "      cursor: pointer;\n",
              "      display: none;\n",
              "      fill: #1967D2;\n",
              "      height: 32px;\n",
              "      padding: 0 0 0 0;\n",
              "      width: 32px;\n",
              "    }\n",
              "\n",
              "    .colab-df-convert:hover {\n",
              "      background-color: #E2EBFA;\n",
              "      box-shadow: 0px 1px 2px rgba(60, 64, 67, 0.3), 0px 1px 3px 1px rgba(60, 64, 67, 0.15);\n",
              "      fill: #174EA6;\n",
              "    }\n",
              "\n",
              "    [theme=dark] .colab-df-convert {\n",
              "      background-color: #3B4455;\n",
              "      fill: #D2E3FC;\n",
              "    }\n",
              "\n",
              "    [theme=dark] .colab-df-convert:hover {\n",
              "      background-color: #434B5C;\n",
              "      box-shadow: 0px 1px 3px 1px rgba(0, 0, 0, 0.15);\n",
              "      filter: drop-shadow(0px 1px 2px rgba(0, 0, 0, 0.3));\n",
              "      fill: #FFFFFF;\n",
              "    }\n",
              "  </style>\n",
              "\n",
              "      <script>\n",
              "        const buttonEl =\n",
              "          document.querySelector('#df-aed705a2-ef5f-40ec-b6c2-bca4ef9612e3 button.colab-df-convert');\n",
              "        buttonEl.style.display =\n",
              "          google.colab.kernel.accessAllowed ? 'block' : 'none';\n",
              "\n",
              "        async function convertToInteractive(key) {\n",
              "          const element = document.querySelector('#df-aed705a2-ef5f-40ec-b6c2-bca4ef9612e3');\n",
              "          const dataTable =\n",
              "            await google.colab.kernel.invokeFunction('convertToInteractive',\n",
              "                                                     [key], {});\n",
              "          if (!dataTable) return;\n",
              "\n",
              "          const docLinkHtml = 'Like what you see? Visit the ' +\n",
              "            '<a target=\"_blank\" href=https://colab.research.google.com/notebooks/data_table.ipynb>data table notebook</a>'\n",
              "            + ' to learn more about interactive tables.';\n",
              "          element.innerHTML = '';\n",
              "          dataTable['output_type'] = 'display_data';\n",
              "          await google.colab.output.renderOutput(dataTable, element);\n",
              "          const docLink = document.createElement('div');\n",
              "          docLink.innerHTML = docLinkHtml;\n",
              "          element.appendChild(docLink);\n",
              "        }\n",
              "      </script>\n",
              "    </div>\n",
              "  </div>\n",
              "  "
            ]
          },
          "metadata": {},
          "execution_count": 46
        }
      ],
      "source": [
        "td"
      ]
    },
    {
      "cell_type": "code",
      "execution_count": null,
      "metadata": {
        "id": "ugGiZ0jItSE_"
      },
      "outputs": [],
      "source": [
        "td.to_csv('test_result_full.csv')"
      ]
    },
    {
      "cell_type": "code",
      "execution_count": null,
      "metadata": {
        "id": "N-GC5CW2tSCn",
        "colab": {
          "base_uri": "https://localhost:8080/",
          "height": 34
        },
        "outputId": "9a6fa0ed-e69a-46c4-d161-12a943834c9d"
      },
      "outputs": [
        {
          "output_type": "display_data",
          "data": {
            "text/plain": [
              "<IPython.core.display.Javascript object>"
            ],
            "application/javascript": [
              "\n",
              "    async function download(id, filename, size) {\n",
              "      if (!google.colab.kernel.accessAllowed) {\n",
              "        return;\n",
              "      }\n",
              "      const div = document.createElement('div');\n",
              "      const label = document.createElement('label');\n",
              "      label.textContent = `Downloading \"${filename}\": `;\n",
              "      div.appendChild(label);\n",
              "      const progress = document.createElement('progress');\n",
              "      progress.max = size;\n",
              "      div.appendChild(progress);\n",
              "      document.body.appendChild(div);\n",
              "\n",
              "      const buffers = [];\n",
              "      let downloaded = 0;\n",
              "\n",
              "      const channel = await google.colab.kernel.comms.open(id);\n",
              "      // Send a message to notify the kernel that we're ready.\n",
              "      channel.send({})\n",
              "\n",
              "      for await (const message of channel.messages) {\n",
              "        // Send a message to notify the kernel that we're ready.\n",
              "        channel.send({})\n",
              "        if (message.buffers) {\n",
              "          for (const buffer of message.buffers) {\n",
              "            buffers.push(buffer);\n",
              "            downloaded += buffer.byteLength;\n",
              "            progress.value = downloaded;\n",
              "          }\n",
              "        }\n",
              "      }\n",
              "      const blob = new Blob(buffers, {type: 'application/binary'});\n",
              "      const a = document.createElement('a');\n",
              "      a.href = window.URL.createObjectURL(blob);\n",
              "      a.download = filename;\n",
              "      div.appendChild(a);\n",
              "      a.click();\n",
              "      div.remove();\n",
              "    }\n",
              "  "
            ]
          },
          "metadata": {}
        },
        {
          "output_type": "display_data",
          "data": {
            "text/plain": [
              "<IPython.core.display.Javascript object>"
            ],
            "application/javascript": [
              "download(\"download_713a83db-5d9d-4f21-86df-a509f2f3c82c\", \"test_result_full.csv\", 74625369)"
            ]
          },
          "metadata": {}
        }
      ],
      "source": [
        "from google.colab import files\n",
        "td.to_csv('test_result_full.csv', index=False)\n",
        "files.download('test_result_full.csv')"
      ]
    },
    {
      "cell_type": "code",
      "execution_count": null,
      "metadata": {
        "id": "SevBNYbZtSAG"
      },
      "outputs": [],
      "source": []
    },
    {
      "cell_type": "code",
      "execution_count": null,
      "metadata": {
        "id": "RG0aRduutR8F"
      },
      "outputs": [],
      "source": []
    },
    {
      "cell_type": "code",
      "execution_count": null,
      "metadata": {
        "id": "QNECXyxotR1t"
      },
      "outputs": [],
      "source": []
    },
    {
      "cell_type": "code",
      "execution_count": null,
      "metadata": {
        "id": "gg5YXSwRtRqB"
      },
      "outputs": [],
      "source": []
    }
  ],
  "metadata": {
    "colab": {
      "provenance": [],
      "collapsed_sections": [],
      "include_colab_link": true
    },
    "kernelspec": {
      "display_name": "Python 3",
      "name": "python3"
    },
    "language_info": {
      "name": "python"
    }
  },
  "nbformat": 4,
  "nbformat_minor": 0
}